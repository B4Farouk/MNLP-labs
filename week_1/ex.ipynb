{
  "cells": [
    {
      "cell_type": "markdown",
      "metadata": {
        "id": "k0dwk9NVf1GR"
      },
      "source": [
        "# 📚 Exercise Session - Week 1\n",
        "\n",
        "Welcome to Week 1 exercise session of **CS-552: Modern NLP**!\n",
        "\n",
        "> **What will be covered:**\n",
        "> 1. [Training a word embedding model](#1)\n",
        "> 2. [**TASK A:** Word embedding similarity](#2)\n",
        "> 3. [**TASK B:** Sentiment analysis of movie reviews](#3)\n",
        "\n",
        "> **By the end of the session you will be able to:**\n",
        "> - ✅  train from scratch a word embedding model\n",
        "> - ✅  load and use pre-trained word embeddings \n",
        "> - ✅  perform word embedding analogies and understand their implicit biases\n",
        "> - ✅  train and evaluate a sentiment classifier using word embeddings "
      ]
    },
    {
      "cell_type": "markdown",
      "metadata": {
        "id": "YhID-ADNf1GU"
      },
      "source": [
        "## Intro - Word embedding models\n",
        "\n",
        "#### 🔵 What?\n",
        "A word embedding is a learned representation for text where words that have the same meaning have a similar representation. It is this approach to representing words and documents that may be considered one of the key breakthroughs of deep learning on challenging natural language processing problems.\n",
        "\n",
        "\n",
        "#### 🟡 How?\n",
        "There are different versions of word embeddings depending on the way the embeddings are learned.\n",
        "- Some of the models learn a focus word given the neighboring words that surround them (like word2vec: CBOW).\n",
        "- Some other models learn the neighboring words given the focus word (word2vec: skip-gram).\n",
        "- Some other words embedding models try to derive the relationship between the words from global statistics of the words in the overall corpus (like GloVe).\n",
        "\n",
        "\n",
        "#### 🟣 Why?\n",
        "Word embedding in NLP is an important term that is used for representing words for text analysis in the form of real-valued vectors. It is an advancement in NLP that has improved the ability of computers to understand text-based content in a better way. \n",
        "\n",
        "\n",
        "#### A little bit of history on word embeddings\n",
        "In 2013, Tomas Mikolov et al. developed an algorithm for learning word embeddings called **Word2vec** [[paper](https://arxiv.org/abs/1301.3781)][[code](https://code.google.com/archive/p/word2vec/)]. This algorithm uses a shallow neural network to learn word vectors so that each word of a given corpus is good at predicting its own contexts (Skip-Gram) or vice versa (CBOW).\n",
        "\n",
        "One year after the publication of Word2vec, Pennington et al. developed a new algorithm for learning word embeddings called **GloVe** [[paper](https://nlp.stanford.edu/pubs/glove.pdf)][[code](https://github.com/stanfordnlp/GloVe)]. This algorithm is based on the observation that word relationships can be recovered from the co-occurrence statistics of any (large enough) corpus."
      ]
    },
    {
      "cell_type": "markdown",
      "metadata": {
        "id": "MoBQATcyf1GV"
      },
      "source": [
        "<div style=\"padding:8px 0 8px 15px;border-left:3px solid orange;background-color:#F3F3F3;\">\n",
        "    <h3>Goal of today's exercise</h3><br/>\n",
        "In this exercise session, we will use both variants of these word embedding models (Word2Vec and GloVe) for our experiments. \n",
        "\n",
        "In this exercise session, we will use both variants of these word embedding models (Word2Vec and GloVe) for our experiments.\n",
        "For the first part, we will train from scratch a Word2vec model with different datasets. In the second part, we will load pre-trained Word2vec and GloVe embeddings and test them on how well they capture concept similarity among words. Finally, for the last part, we will train a simple sentiment analysis classifier with these pre-trained embeddings as we discussed in the lecture.\n",
        "\n",
        "You will need to fill in all the missing pieces of code. For each one, you will be given a 🎯 `Goal` guidance that explains the steps you need to implement and a 💻 `API` reference with the functions or classes you can use to achieve each goal.\n",
        "\n",
        "#### Setup\n",
        "Please check the [setup guide]() of the course before you start.\n",
        "\n",
        "</div>"
      ]
    },
    {
      "cell_type": "code",
      "execution_count": 1,
      "metadata": {
        "id": "4Q0hsIQ_f1GX"
      },
      "outputs": [],
      "source": [
        "# imported libraries for this exercise\n",
        "import pandas as pd\n",
        "import numpy as np\n",
        "from gensim.test.utils import common_texts\n",
        "from gensim.utils import tokenize   \n",
        "from gensim.models import Word2Vec\n",
        "import gensim.downloader\n",
        "import torch \n",
        "from torch import nn\n",
        "from torch.utils.data import Dataset, DataLoader\n",
        "from torchmetrics.classification import BinaryAccuracy\n",
        "from sklearn.manifold import TSNE\n",
        "import matplotlib.pyplot as plt\n",
        "import seaborn as sns\n",
        "from tqdm import tqdm"
      ]
    },
    {
      "cell_type": "markdown",
      "metadata": {
        "id": "qWQf2bIHf1GZ"
      },
      "source": [
        "<a name=\"1\"></a>\n",
        "## 1. Training a word embedding model from stratch \n",
        "\n",
        "In this part, you will train a model to learn vector representations of words and more specifically, we will train the word2vec model. \n",
        "To train the model we will use the Gensim library which is a free open-source Python library for representing documents as semantic vectors.\n",
        " \n",
        "> **Gensim** is designed to process raw, unstructured digital texts (“plain text”) using unsupervised machine learning algorithms. The algorithms in Gensim, such as Word2Vec, FastText, Latent Semantic Indexing (LSI, LSA, LsiModel), Latent Dirichlet Allocation (LDA, LdaModel) etc, automatically discover the semantic structure of documents by examining statistical co-occurrence patterns within a corpus of training documents. These algorithms are unsupervised, which means no human input is necessary – you only need a corpus of plain text documents.\n",
        ">\n",
        "> You can discover all Gensim functionalities [here](https://radimrehurek.com/gensim/index.html).\n",
        "\n",
        "To train your embedding model, you will need to instantiate Word2Vec and pass the data to the model to train with. We essentially need to pass on a list of lists, where each list within the main list contains a set of tokens from a user review. Word2Vec uses all these tokens to internally create a vocabulary.\n",
        "\n",
        "**Data:** We will train our embedding model using a toy dataset that is provided by the Gensim library. You can use the dataset under the following path `gensim.test.utils.common_texts`. "
      ]
    },
    {
      "cell_type": "code",
      "execution_count": 2,
      "metadata": {
        "colab": {
          "base_uri": "https://localhost:8080/"
        },
        "id": "VMQgQ45Wf1Ga",
        "outputId": "0b769b08-d8a9-4c4b-a6d1-b89e8998573d"
      },
      "outputs": [
        {
          "data": {
            "text/plain": [
              "[['human', 'interface', 'computer'],\n",
              " ['survey', 'user', 'computer', 'system', 'response', 'time'],\n",
              " ['eps', 'user', 'interface', 'system'],\n",
              " ['system', 'human', 'system', 'eps'],\n",
              " ['user', 'response', 'time'],\n",
              " ['trees'],\n",
              " ['graph', 'trees'],\n",
              " ['graph', 'minors', 'trees'],\n",
              " ['graph', 'minors', 'survey']]"
            ]
          },
          "execution_count": 2,
          "metadata": {},
          "output_type": "execute_result"
        }
      ],
      "source": [
        "# bag of words for each sentence in toy dataset (imported from the gensim library in cell 2)\n",
        "common_texts"
      ]
    },
    {
      "cell_type": "markdown",
      "metadata": {
        "id": "TulyoMvRf1Gb"
      },
      "source": [
        "#### Train a Gensim Word2Vec model"
      ]
    },
    {
      "cell_type": "markdown",
      "metadata": {
        "id": "NCib2Pksf1Gc"
      },
      "source": [
        "<div style=\"padding:8px 0 8px 15px;border-left:3px solid #03befc;background-color:#F3F3F3;\">\n",
        "    \n",
        "- 🎯 **Goal:** Train with `common_texts` dataset a Gensim word2vec model.<br>\n",
        "\n",
        "- 💻  **API:** You can use `gensim.models.Word2Vec` class.\n",
        "</div>"
      ]
    },
    {
      "cell_type": "code",
      "execution_count": 3,
      "metadata": {
        "id": "DxVATnGtf1Gd"
      },
      "outputs": [],
      "source": [
        "#instantiate and train model\n",
        "w2v_model = Word2Vec(sentences=common_texts, vector_size=10, window=2, min_count=1)"
      ]
    },
    {
      "cell_type": "code",
      "execution_count": 4,
      "metadata": {
        "colab": {
          "base_uri": "https://localhost:8080/"
        },
        "id": "TpvE5Wobf1Ge",
        "outputId": "8aca7cb2-8045-44eb-e39d-61a08c050a57"
      },
      "outputs": [
        {
          "data": {
            "text/plain": [
              "{'system': 0,\n",
              " 'graph': 1,\n",
              " 'trees': 2,\n",
              " 'user': 3,\n",
              " 'minors': 4,\n",
              " 'eps': 5,\n",
              " 'time': 6,\n",
              " 'response': 7,\n",
              " 'survey': 8,\n",
              " 'computer': 9,\n",
              " 'interface': 10,\n",
              " 'human': 11}"
            ]
          },
          "execution_count": 4,
          "metadata": {},
          "output_type": "execute_result"
        }
      ],
      "source": [
        "# dict with vocabulary frequencies\n",
        "words = w2v_model.wv.key_to_index\n",
        "words"
      ]
    },
    {
      "cell_type": "markdown",
      "metadata": {
        "id": "1PhBFWVmf1Gf"
      },
      "source": [
        "#### Find word similarities"
      ]
    },
    {
      "cell_type": "code",
      "execution_count": 5,
      "metadata": {
        "colab": {
          "base_uri": "https://localhost:8080/"
        },
        "id": "6P7l2kbMf1Gg",
        "outputId": "3bded0a9-c7ce-49ea-87f5-f2c3f66df3fa"
      },
      "outputs": [
        {
          "name": "stdout",
          "output_type": "stream",
          "text": [
            "The vector length of the word is 10.\n"
          ]
        }
      ],
      "source": [
        "# explore embeddings\n",
        "vector = w2v_model.wv['computer']  # get numpy vector of a word\n",
        "print('The vector length of the word is {}.'.format(len(vector)))"
      ]
    },
    {
      "cell_type": "markdown",
      "metadata": {
        "id": "UKv7f3Uef1Gg"
      },
      "source": [
        "<div style=\"padding:8px 0 8px 15px;border-left:3px solid #03befc;background-color:#F3F3F3;\">\n",
        "\n",
        "- 🎯 **Goal:** Use the trained word2vec model to find most similar words for token _\"computer\"_.\n",
        "- 💻 **API:** You can use Gensim's `.most_similar` function.\n",
        "\n",
        "</div>"
      ]
    },
    {
      "cell_type": "code",
      "execution_count": 6,
      "metadata": {
        "colab": {
          "base_uri": "https://localhost:8080/"
        },
        "id": "FL0yLUUcf1Gh",
        "outputId": "60a3c736-d6f3-4e9c-faf1-688d87037c3f"
      },
      "outputs": [
        {
          "data": {
            "text/plain": [
              "[('eps', 0.2914133667945862),\n",
              " ('trees', 0.05541810393333435),\n",
              " ('minors', 0.04264547675848007)]"
            ]
          },
          "execution_count": 6,
          "metadata": {},
          "output_type": "execute_result"
        }
      ],
      "source": [
        "# print most similar words\n",
        "w2v_model.wv.most_similar(\"computer\", topn=3)"
      ]
    },
    {
      "cell_type": "markdown",
      "metadata": {
        "id": "YDfK32Bff1Gh"
      },
      "source": [
        "<div style=\"padding:8px 0 8px 15px;border-left:3px solid gray;background-color:#F3F3F3;\">\n",
        "\n",
        "#### Play around with inital settings\n",
        "\n",
        "- Re-train the model with different datasets ( [Wikipedia](https://radimrehurek.com/gensim/corpora/wikicorpus.html), [Opinosis](https://radimrehurek.com/gensim/corpora/opinosiscorpus.html) ) and vector sizes and run similarity with different top-n. How would you comment the results?\n",
        "- Think about the limitations of the Word2vec approach.\n",
        "\n",
        "</div>"
      ]
    },
    {
      "cell_type": "markdown",
      "metadata": {
        "id": "p53Z42hEf1Gi"
      },
      "source": [
        "***--- YOU CAN WRITE YOU ANSWER HERE ---***\n",
        "\n",
        "---"
      ]
    },
    {
      "cell_type": "markdown",
      "metadata": {
        "id": "NElA8xTOf1Gi"
      },
      "source": [
        "<a name=\"2\"></a>\n",
        "## 2. TASK A: Word embedding similarity\n",
        "\n",
        "For this task, we will use pre-trained word embedding models. \n",
        "\n",
        "**Word2Vec:** We will use once again Word2vec as in the previous question, but in this case we will load the pre-trained version of it that has been trained on a part of the Google News dataset (about 100 billion words). The model variant that we will use, contains 300-dimensional vectors for 3 million words and phrases. You can find the embeddings under this dir: . You need to download them and put them under the `/Users/<username>/gensin-data/word2vec-google-news-300/` dir (your local directory).\n",
        "\n",
        "**GloVe:** We will also use GloVe word embeddings that have been pre-trained on 2B tweets, 27B tokens, 1.2M vocab, uncased. The model variant that we will use contains 100-dimensional vectors.\n",
        "\n",
        "Once we load the vector represenation of words, we will:\n",
        "- find similarities between group of words.\n",
        "- discover a very cool property of word embeddings through analogies.\n",
        "- evaluate their performance on how well they capture the semantics between words on the SimLex task.\n"
      ]
    },
    {
      "cell_type": "markdown",
      "metadata": {
        "id": "OAfpdZj-f1Gi"
      },
      "source": [
        "### 2.1 Using pre-trained word embedding models"
      ]
    },
    {
      "cell_type": "code",
      "execution_count": 7,
      "metadata": {
        "colab": {
          "base_uri": "https://localhost:8080/"
        },
        "id": "peS5D2FBf1Gi",
        "outputId": "14d97918-0525-4f4a-8ea2-e6f074b37630"
      },
      "outputs": [
        {
          "name": "stdout",
          "output_type": "stream",
          "text": [
            "['fasttext-wiki-news-subwords-300', 'conceptnet-numberbatch-17-06-300', 'word2vec-ruscorpora-300', 'word2vec-google-news-300', 'glove-wiki-gigaword-50', 'glove-wiki-gigaword-100', 'glove-wiki-gigaword-200', 'glove-wiki-gigaword-300', 'glove-twitter-25', 'glove-twitter-50', 'glove-twitter-100', 'glove-twitter-200', '__testing_word2vec-matrix-synopsis']\n"
          ]
        }
      ],
      "source": [
        "# Show all available models in gensim-data\n",
        "print(list(gensim.downloader.info()['models'].keys()))"
      ]
    },
    {
      "cell_type": "code",
      "execution_count": 8,
      "metadata": {
        "colab": {
          "base_uri": "https://localhost:8080/"
        },
        "id": "ZYm3wT7Yf1Gi",
        "outputId": "84ee69f8-31e8-47b8-8883-c7c720af4c8e"
      },
      "outputs": [
        {
          "name": "stdout",
          "output_type": "stream",
          "text": [
            "[==================================================] 100.0% 1662.8/1662.8MB downloaded\n"
          ]
        }
      ],
      "source": [
        "# Download the \"word2vec-google-news-300\" embeddings\n",
        "w2v_vectors = gensim.downloader.load('word2vec-google-news-300')"
      ]
    },
    {
      "cell_type": "code",
      "execution_count": 9,
      "metadata": {
        "colab": {
          "base_uri": "https://localhost:8080/"
        },
        "id": "sf5rsOaZf1Gj",
        "outputId": "801116b5-a7a2-40f5-da20-e4a602ed467a"
      },
      "outputs": [
        {
          "name": "stdout",
          "output_type": "stream",
          "text": [
            "[==================================================] 100.0% 128.1/128.1MB downloaded\n"
          ]
        }
      ],
      "source": [
        "# Download the \"glove-wiki-gigaword-100\" embeddings\n",
        "glove_vectors = gensim.downloader.load('glove-wiki-gigaword-100')"
      ]
    },
    {
      "cell_type": "markdown",
      "metadata": {
        "id": "yHfyWEW0f1Gj"
      },
      "source": [
        "The best way to understand a data is by visualizing them. We will use t-SNE to reduce the data with 300 dimensions to 2 dimensions, so that we can plot the data on our screens.\n",
        "t-SNE is a non-linear dimensionality reduction algorithm that attempts to represent high-dimensional data and the underlying relationships between vectors in a lower-dimensional space."
      ]
    },
    {
      "cell_type": "code",
      "execution_count": 10,
      "metadata": {
        "id": "kda1NNXAf1Gk"
      },
      "outputs": [],
      "source": [
        "# visualization utility function. NO NEED TO CHANGE ANYTHING HERE\n",
        "plt.style.use('seaborn-whitegrid')\n",
        "sns.set(rc={'figure.figsize':(11.7,8.27)})\n",
        "\n",
        "def tsne_scatterplot(model, search_word, topn):\n",
        "    labels = [search_word]\n",
        "    tokens = [model[search_word]]\n",
        "    similar = [1]\n",
        "    close_words = model.similar_by_word(search_word, topn=topn)\n",
        "    for word in close_words:\n",
        "        tokens.append(model[word[0]])\n",
        "        labels.append(word[0])\n",
        "        similar.append(word[1])\n",
        "\n",
        "    tsne_model = TSNE(n_components=2, init='pca')\n",
        "    coordinates = tsne_model.fit_transform(tokens)\n",
        "    df = pd.DataFrame({'x': [x for x in coordinates[:, 0]],\n",
        "                       'y': [y for y in coordinates[:, 1]],\n",
        "                       'words': labels,\n",
        "                       'similarity': similar}\n",
        "                      )\n",
        "    fig, ax = plt.subplots()\n",
        "    plot = ax.scatter(df.x, df.y, c=df.similarity, cmap='Reds')\n",
        "    for i in range(len(df)):\n",
        "        ax.annotate(\"  {} ({:.2f})\".format(df.words[i].title(),\n",
        "                                           df.similarity[i]),\n",
        "                    (df.x[i], df.y[i]))\n",
        "\n",
        "    plt.colorbar(mappable=plot, ax=ax)\n",
        "    plt.title('t-SNE visualization for {}'.format(search_word))\n",
        "    plt.show()"
      ]
    },
    {
      "cell_type": "code",
      "execution_count": 11,
      "metadata": {
        "colab": {
          "base_uri": "https://localhost:8080/",
          "height": 605
        },
        "id": "cvOk51inf1Gl",
        "outputId": "ae0873bd-6b58-4694-d6b2-899a4d52d8b7"
      },
      "outputs": [
        {
          "name": "stderr",
          "output_type": "stream",
          "text": [
            "/usr/local/lib/python3.8/dist-packages/sklearn/manifold/_t_sne.py:790: FutureWarning: The default learning rate in TSNE will change from 200.0 to 'auto' in 1.2.\n",
            "  warnings.warn(\n",
            "/usr/local/lib/python3.8/dist-packages/sklearn/manifold/_t_sne.py:982: FutureWarning: The PCA initialization in TSNE will change to have the standard deviation of PC1 equal to 1e-4 in 1.2. This will ensure better convergence.\n",
            "  warnings.warn(\n"
          ]
        },
        {
          "data": {
            "image/png": "[encoded data removed]",
            "text/plain": [
              "<Figure size 842.4x595.44 with 2 Axes>"
            ]
          },
          "metadata": {},
          "output_type": "display_data"
        }
      ],
      "source": [
        "# visualize the most similar words for a given word.\n",
        "tsne_scatterplot(glove_vectors, \"computer\", 20)"
      ]
    },
    {
      "cell_type": "markdown",
      "metadata": {
        "id": "zL-7khrgf1Gl"
      },
      "source": [
        "#### Interactive visualization\n",
        "\n",
        "In the following link, you can explore the state-of-the-art models in an interactive embedding visualization: https://projector.tensorflow.org/.\n",
        "\n",
        "Using the TensorBoard Embedding Projector, you can graphically represent high dimensional embeddings. This can be helpful in visualizing, examining, and understanding your embeddings.\n",
        "\n",
        "Give it a try! Test interesting clusters of similar words! "
      ]
    },
    {
      "cell_type": "markdown",
      "metadata": {
        "id": "WvjwL3odf1Gm"
      },
      "source": [
        "### 2.2 Check word analogies\n",
        "\n",
        "The fact that we can analyze the use of words in language to deduce their meaning is a fundamental idea of [distributional semantics](https://en.wikipedia.org/wiki/Distributional_semantics). This is the inspiration behind many algorithms for learning numerical representations of words (word embeddings). An important aspect of these representations is the ability to solve word analogies of the form “A is to B what C is to X” using simple arithmetic. This is generally simplified as “King — Man + Woman = Queen.\n",
        "\n",
        "In this subquestion we will explore interesting relations that can be extracted from word embeddings. You will be given semantic relations and you need to implement the respective code using the embedding model."
      ]
    },
    {
      "cell_type": "markdown",
      "metadata": {
        "id": "vV9G34NIf1Gm"
      },
      "source": [
        "<div style=\"padding:8px 0 8px 15px;border-left:3px solid #03befc;background-color:#F3F3F3;\">\n",
        "\n",
        "- 🎯 **Goal:** Use the pre-trained GloVe embeddings to implement the following analogies.\n",
        "- 💻 **API:** You can use Gensim's `.most_similar` function.\n",
        "\n",
        "</div>"
      ]
    },
    {
      "cell_type": "markdown",
      "metadata": {
        "id": "BZfS9H3Bf1Gm"
      },
      "source": [
        "**Analogy A:**  `King` — `Man` + `Woman` ~ `?`\n",
        "\n",
        "`?`: `Queen`"
      ]
    },
    {
      "cell_type": "code",
      "execution_count": 24,
      "metadata": {
        "colab": {
          "base_uri": "https://localhost:8080/"
        },
        "id": "bjzjLPZrf1Gm",
        "outputId": "5c83feb6-23db-4747-8849-c6cf8749940c"
      },
      "outputs": [
        {
          "data": {
            "text/plain": [
              "[('queen', 0.7698540687561035)]"
            ]
          },
          "execution_count": 24,
          "metadata": {},
          "output_type": "execute_result"
        }
      ],
      "source": [
        "# Check the \"most similar words\", using the default \"cosine similarity\" measure. \n",
        "glove_vectors.most_similar([\"king\", \"woman\"], \"man\", topn=1)"
      ]
    },
    {
      "cell_type": "markdown",
      "metadata": {
        "id": "VNBFTLQ-f1Gn"
      },
      "source": [
        "**Analogy B:**  `Paris` — `France` + `Athens` ~ `?`\n",
        "\n",
        "`?`: `Greece`"
      ]
    },
    {
      "cell_type": "code",
      "execution_count": 31,
      "metadata": {
        "colab": {
          "base_uri": "https://localhost:8080/"
        },
        "id": "Qq9XNTMXf1Gn",
        "outputId": "9d32e89c-951f-4983-b271-f30b428cc382"
      },
      "outputs": [
        {
          "data": {
            "text/plain": [
              "[('greece', 0.7968204617500305)]"
            ]
          },
          "execution_count": 31,
          "metadata": {},
          "output_type": "execute_result"
        }
      ],
      "source": [
        "# Check the \"most similar words\", using the default \"cosine similarity\" measure. \n",
        "glove_vectors.most_similar([\"athens\", \"france\"], \"paris\", topn=1)"
      ]
    },
    {
      "cell_type": "markdown",
      "metadata": {
        "id": "TIEptCuVf1Gn"
      },
      "source": [
        "However, we should not forget that these models are trained in human generated language. Meaning that sociatital and demographic biases are inevitable. In the following example you will unfortunatelly witness these kind of biases that the model unitentionally proragates to its final output.\n",
        "\n",
        "Fortunatelly, extensive reaserch has been developed the last years to tackle this issue trying to de-bias the embeddings models. More regarding this topic will be covered in Week 11  when we will be talking about Ethics in NLP regarding Toxicity, Bias and Fairness.\n",
        "\n",
        "**Analogy C:**  `Man` - `Doctor` + `Woman` ~ `Nurse`"
      ]
    },
    {
      "cell_type": "code",
      "execution_count": 58,
      "metadata": {
        "colab": {
          "base_uri": "https://localhost:8080/"
        },
        "id": "oa3aGUOAf1Gn",
        "outputId": "819ea5c0-8d3c-48c2-ba05-b82b5e0533e2"
      },
      "outputs": [
        {
          "data": {
            "text/plain": [
              "[('nurse', 0.7735227942466736)]"
            ]
          },
          "execution_count": 58,
          "metadata": {},
          "output_type": "execute_result"
        }
      ],
      "source": [
        "# Check the \"most similar words\", using the default \"cosine similarity\" measure. \n",
        "glove_vectors.most_similar([\"woman\", \"doctor\"], \"man\", topn=1)"
      ]
    },
    {
      "cell_type": "markdown",
      "metadata": {
        "id": "s53Qf0bWf1Go"
      },
      "source": [
        "### 2.3 Evaluate different models with SimLex\n",
        "\n",
        "In this part of the exercise, we will evaluate the syntactic concreteness of the created vectors using their similarity. For this task, we will use the SimLex999 dataset which is a human-annotated dataset regarding the similarity of concepts of words.\n",
        "\n",
        "- 📄 Paper: https://aclanthology.org/J15-4004.pdf\n",
        "- 👾 More about the task: https://fh295.github.io/simlex.html\n",
        "\n",
        "> - Download the data from [here](https://fh295.github.io/SimLex-999.zip)\n",
        "> - Unzip the file and put the corresponding folder with the dataset in the same dir as this notebook\n",
        "\n",
        "SimLex-999 is a gold standard resource for the evaluation of models that learn the meaning of words and concepts. SimLex-999 provides a way of measuring how well models capture similarity, rather than relatedness or association.\n",
        "\n",
        "#### Dataset:\n",
        "SimLex-999.txt is a tab-separated plaintext file, where rows correspond to concept pairs and columns correspond to the properties of each pair.\n",
        "\n",
        "|Column | Description |\n",
        "|-------|:-------------|\n",
        "|word1| The first concept in the pair.|\n",
        "|word2| The second concept in the pair. Note that the order is only relevant to the column Assoc(USF). These values (free association scores) are asymmetric. All other values are symmetric properties independent of the ordering word1, word2.|\n",
        "|POS| The majority part-of-speech of the concept words, as determined by occurrence in the POS-tagged British National Corpus. Only pairs of matching POS are included in SimLex-999.|\n",
        "|SimLex999 | The SimLex999 similarity rating. Note that average annotator scores have been (linearly) mapped from the range [0,6] to the range [0,10] to match other datasets such as WordSim-353. |\n",
        "|conc(w1)| The concreteness rating of word1 on a scale of 1-7. Taken from the University of South Florida Free Association Norms database. |\n",
        "|conc(w2)| The concreteness rating of word2 on a scale of 1-7. Taken from the University of South Florida Free Association Norms database.|\n",
        "|concQ| The quartile the pair occupies based on the two concreteness ratings. Used for some analyses in the above paper.|\n",
        "|Assoc(USF)| The strength of free association from word1 to word2. Values are taken from the University of South Florida Free Association Dataset.|\n",
        "|SimAssoc333| Binary indicator of whether the pair is one of the 333 most associated in the dataset (according to Assoc(USF)). This subset of SimLex999 is often the hardest for computational models to capture because the noise from high association can confound the similarity rating. See the paper for more details.|\n",
        "|SD(SimLex)| The standard deviation of annotator scores when rating this pair. Low values indicate good agreement between the 15+ annotators on the similarity value SimLex999. Higher scores indicate less certainty. |"
      ]
    },
    {
      "cell_type": "markdown",
      "metadata": {
        "id": "2k1Qhgf9f1Go"
      },
      "source": [
        "We will be using the **`SimLex999` similarity column** to evaluate our word embeddings on this dataset. We will select the top 50 most similar pairs according to simlex999 column which a score from 0 to 10 regarding the similarities of the two words (columns: word1, word2) and it has been annotated by humans. On this subset of data, we will find the similarity score of the two words using our two pre-trained embedding models (Word2Vec, GloVe). "
      ]
    },
    {
      "cell_type": "code",
      "execution_count": 47,
      "metadata": {
        "colab": {
          "base_uri": "https://localhost:8080/",
          "height": 206
        },
        "id": "KpY081hYf1Gp",
        "outputId": "bd58ce88-3104-4cd4-e242-315f3e7a23ef"
      },
      "outputs": [
        {
          "data": {
            "text/html": [
              "\n",
              "  <div id=\"df-257042cd-b411-4e6a-827a-0f330e4f5318\">\n",
              "    <div class=\"colab-df-container\">\n",
              "      <div>\n",
              "<style scoped>\n",
              "    .dataframe tbody tr th:only-of-type {\n",
              "        vertical-align: middle;\n",
              "    }\n",
              "\n",
              "    .dataframe tbody tr th {\n",
              "        vertical-align: top;\n",
              "    }\n",
              "\n",
              "    .dataframe thead th {\n",
              "        text-align: right;\n",
              "    }\n",
              "</style>\n",
              "<table border=\"1\" class=\"dataframe\">\n",
              "  <thead>\n",
              "    <tr style=\"text-align: right;\">\n",
              "      <th></th>\n",
              "      <th>word1</th>\n",
              "      <th>word2</th>\n",
              "      <th>SimLex999</th>\n",
              "    </tr>\n",
              "  </thead>\n",
              "  <tbody>\n",
              "    <tr>\n",
              "      <th>0</th>\n",
              "      <td>old</td>\n",
              "      <td>new</td>\n",
              "      <td>1.58</td>\n",
              "    </tr>\n",
              "    <tr>\n",
              "      <th>1</th>\n",
              "      <td>smart</td>\n",
              "      <td>intelligent</td>\n",
              "      <td>9.20</td>\n",
              "    </tr>\n",
              "    <tr>\n",
              "      <th>2</th>\n",
              "      <td>hard</td>\n",
              "      <td>difficult</td>\n",
              "      <td>8.77</td>\n",
              "    </tr>\n",
              "    <tr>\n",
              "      <th>3</th>\n",
              "      <td>happy</td>\n",
              "      <td>cheerful</td>\n",
              "      <td>9.55</td>\n",
              "    </tr>\n",
              "    <tr>\n",
              "      <th>4</th>\n",
              "      <td>hard</td>\n",
              "      <td>easy</td>\n",
              "      <td>0.95</td>\n",
              "    </tr>\n",
              "  </tbody>\n",
              "</table>\n",
              "</div>\n",
              "      <button class=\"colab-df-convert\" onclick=\"convertToInteractive('df-257042cd-b411-4e6a-827a-0f330e4f5318')\"\n",
              "              title=\"Convert this dataframe to an interactive table.\"\n",
              "              style=\"display:none;\">\n",
              "        \n",
              "  <svg xmlns=\"http://www.w3.org/2000/svg\" height=\"24px\"viewBox=\"0 0 24 24\"\n",
              "       width=\"24px\">\n",
              "    <path d=\"M0 0h24v24H0V0z\" fill=\"none\"/>\n",
              "    <path d=\"M18.56 5.44l.94 2.06.94-2.06 2.06-.94-2.06-.94-.94-2.06-.94 2.06-2.06.94zm-11 1L8.5 8.5l.94-2.06 2.06-.94-2.06-.94L8.5 2.5l-.94 2.06-2.06.94zm10 10l.94 2.06.94-2.06 2.06-.94-2.06-.94-.94-2.06-.94 2.06-2.06.94z\"/><path d=\"M17.41 7.96l-1.37-1.37c-.4-.4-.92-.59-1.43-.59-.52 0-1.04.2-1.43.59L10.3 9.45l-7.72 7.72c-.78.78-.78 2.05 0 2.83L4 21.41c.39.39.9.59 1.41.59.51 0 1.02-.2 1.41-.59l7.78-7.78 2.81-2.81c.8-.78.8-2.07 0-2.86zM5.41 20L4 18.59l7.72-7.72 1.47 1.35L5.41 20z\"/>\n",
              "  </svg>\n",
              "      </button>\n",
              "      \n",
              "  <style>\n",
              "    .colab-df-container {\n",
              "      display:flex;\n",
              "      flex-wrap:wrap;\n",
              "      gap: 12px;\n",
              "    }\n",
              "\n",
              "    .colab-df-convert {\n",
              "      background-color: #E8F0FE;\n",
              "      border: none;\n",
              "      border-radius: 50%;\n",
              "      cursor: pointer;\n",
              "      display: none;\n",
              "      fill: #1967D2;\n",
              "      height: 32px;\n",
              "      padding: 0 0 0 0;\n",
              "      width: 32px;\n",
              "    }\n",
              "\n",
              "    .colab-df-convert:hover {\n",
              "      background-color: #E2EBFA;\n",
              "      box-shadow: 0px 1px 2px rgba(60, 64, 67, 0.3), 0px 1px 3px 1px rgba(60, 64, 67, 0.15);\n",
              "      fill: #174EA6;\n",
              "    }\n",
              "\n",
              "    [theme=dark] .colab-df-convert {\n",
              "      background-color: #3B4455;\n",
              "      fill: #D2E3FC;\n",
              "    }\n",
              "\n",
              "    [theme=dark] .colab-df-convert:hover {\n",
              "      background-color: #434B5C;\n",
              "      box-shadow: 0px 1px 3px 1px rgba(0, 0, 0, 0.15);\n",
              "      filter: drop-shadow(0px 1px 2px rgba(0, 0, 0, 0.3));\n",
              "      fill: #FFFFFF;\n",
              "    }\n",
              "  </style>\n",
              "\n",
              "      <script>\n",
              "        const buttonEl =\n",
              "          document.querySelector('#df-257042cd-b411-4e6a-827a-0f330e4f5318 button.colab-df-convert');\n",
              "        buttonEl.style.display =\n",
              "          google.colab.kernel.accessAllowed ? 'block' : 'none';\n",
              "\n",
              "        async function convertToInteractive(key) {\n",
              "          const element = document.querySelector('#df-257042cd-b411-4e6a-827a-0f330e4f5318');\n",
              "          const dataTable =\n",
              "            await google.colab.kernel.invokeFunction('convertToInteractive',\n",
              "                                                     [key], {});\n",
              "          if (!dataTable) return;\n",
              "\n",
              "          const docLinkHtml = 'Like what you see? Visit the ' +\n",
              "            '<a target=\"_blank\" href=https://colab.research.google.com/notebooks/data_table.ipynb>data table notebook</a>'\n",
              "            + ' to learn more about interactive tables.';\n",
              "          element.innerHTML = '';\n",
              "          dataTable['output_type'] = 'display_data';\n",
              "          await google.colab.output.renderOutput(dataTable, element);\n",
              "          const docLink = document.createElement('div');\n",
              "          docLink.innerHTML = docLinkHtml;\n",
              "          element.appendChild(docLink);\n",
              "        }\n",
              "      </script>\n",
              "    </div>\n",
              "  </div>\n",
              "  "
            ],
            "text/plain": [
              "   word1        word2  SimLex999\n",
              "0    old          new       1.58\n",
              "1  smart  intelligent       9.20\n",
              "2   hard    difficult       8.77\n",
              "3  happy     cheerful       9.55\n",
              "4   hard         easy       0.95"
            ]
          },
          "execution_count": 47,
          "metadata": {},
          "output_type": "execute_result"
        }
      ],
      "source": [
        "# read data\n",
        "simlex = pd.read_csv('mnlp_labs/week_1/SimLex-999/SimLex-999.txt', delimiter='\\t')\n",
        "simlex = simlex[['word1', 'word2', 'SimLex999']]\n",
        "simlex.head()"
      ]
    },
    {
      "cell_type": "markdown",
      "metadata": {
        "id": "HgbYaQSPf1Gp"
      },
      "source": [
        "<div style=\"padding:8px 0 8px 15px;border-left:3px solid #03befc;background-color:#F3F3F3;\">\n",
        "\n",
        "- 🎯 **Goal:** Print the min, avg and max values of SimLex999 score.\n",
        "\n",
        "</div>"
      ]
    },
    {
      "cell_type": "code",
      "execution_count": 48,
      "metadata": {
        "colab": {
          "base_uri": "https://localhost:8080/",
          "height": 300
        },
        "id": "YwZFO4Ssf1Gq",
        "outputId": "07e28754-9304-49a4-f8cd-383672e13118"
      },
      "outputs": [
        {
          "data": {
            "text/html": [
              "\n",
              "  <div id=\"df-ce3418b1-e407-46f1-8c4d-02bf97ab68fd\">\n",
              "    <div class=\"colab-df-container\">\n",
              "      <div>\n",
              "<style scoped>\n",
              "    .dataframe tbody tr th:only-of-type {\n",
              "        vertical-align: middle;\n",
              "    }\n",
              "\n",
              "    .dataframe tbody tr th {\n",
              "        vertical-align: top;\n",
              "    }\n",
              "\n",
              "    .dataframe thead th {\n",
              "        text-align: right;\n",
              "    }\n",
              "</style>\n",
              "<table border=\"1\" class=\"dataframe\">\n",
              "  <thead>\n",
              "    <tr style=\"text-align: right;\">\n",
              "      <th></th>\n",
              "      <th>SimLex999</th>\n",
              "    </tr>\n",
              "  </thead>\n",
              "  <tbody>\n",
              "    <tr>\n",
              "      <th>count</th>\n",
              "      <td>999.000000</td>\n",
              "    </tr>\n",
              "    <tr>\n",
              "      <th>mean</th>\n",
              "      <td>4.561572</td>\n",
              "    </tr>\n",
              "    <tr>\n",
              "      <th>std</th>\n",
              "      <td>2.614663</td>\n",
              "    </tr>\n",
              "    <tr>\n",
              "      <th>min</th>\n",
              "      <td>0.230000</td>\n",
              "    </tr>\n",
              "    <tr>\n",
              "      <th>25%</th>\n",
              "      <td>2.380000</td>\n",
              "    </tr>\n",
              "    <tr>\n",
              "      <th>50%</th>\n",
              "      <td>4.670000</td>\n",
              "    </tr>\n",
              "    <tr>\n",
              "      <th>75%</th>\n",
              "      <td>6.750000</td>\n",
              "    </tr>\n",
              "    <tr>\n",
              "      <th>max</th>\n",
              "      <td>9.800000</td>\n",
              "    </tr>\n",
              "  </tbody>\n",
              "</table>\n",
              "</div>\n",
              "      <button class=\"colab-df-convert\" onclick=\"convertToInteractive('df-ce3418b1-e407-46f1-8c4d-02bf97ab68fd')\"\n",
              "              title=\"Convert this dataframe to an interactive table.\"\n",
              "              style=\"display:none;\">\n",
              "        \n",
              "  <svg xmlns=\"http://www.w3.org/2000/svg\" height=\"24px\"viewBox=\"0 0 24 24\"\n",
              "       width=\"24px\">\n",
              "    <path d=\"M0 0h24v24H0V0z\" fill=\"none\"/>\n",
              "    <path d=\"M18.56 5.44l.94 2.06.94-2.06 2.06-.94-2.06-.94-.94-2.06-.94 2.06-2.06.94zm-11 1L8.5 8.5l.94-2.06 2.06-.94-2.06-.94L8.5 2.5l-.94 2.06-2.06.94zm10 10l.94 2.06.94-2.06 2.06-.94-2.06-.94-.94-2.06-.94 2.06-2.06.94z\"/><path d=\"M17.41 7.96l-1.37-1.37c-.4-.4-.92-.59-1.43-.59-.52 0-1.04.2-1.43.59L10.3 9.45l-7.72 7.72c-.78.78-.78 2.05 0 2.83L4 21.41c.39.39.9.59 1.41.59.51 0 1.02-.2 1.41-.59l7.78-7.78 2.81-2.81c.8-.78.8-2.07 0-2.86zM5.41 20L4 18.59l7.72-7.72 1.47 1.35L5.41 20z\"/>\n",
              "  </svg>\n",
              "      </button>\n",
              "      \n",
              "  <style>\n",
              "    .colab-df-container {\n",
              "      display:flex;\n",
              "      flex-wrap:wrap;\n",
              "      gap: 12px;\n",
              "    }\n",
              "\n",
              "    .colab-df-convert {\n",
              "      background-color: #E8F0FE;\n",
              "      border: none;\n",
              "      border-radius: 50%;\n",
              "      cursor: pointer;\n",
              "      display: none;\n",
              "      fill: #1967D2;\n",
              "      height: 32px;\n",
              "      padding: 0 0 0 0;\n",
              "      width: 32px;\n",
              "    }\n",
              "\n",
              "    .colab-df-convert:hover {\n",
              "      background-color: #E2EBFA;\n",
              "      box-shadow: 0px 1px 2px rgba(60, 64, 67, 0.3), 0px 1px 3px 1px rgba(60, 64, 67, 0.15);\n",
              "      fill: #174EA6;\n",
              "    }\n",
              "\n",
              "    [theme=dark] .colab-df-convert {\n",
              "      background-color: #3B4455;\n",
              "      fill: #D2E3FC;\n",
              "    }\n",
              "\n",
              "    [theme=dark] .colab-df-convert:hover {\n",
              "      background-color: #434B5C;\n",
              "      box-shadow: 0px 1px 3px 1px rgba(0, 0, 0, 0.15);\n",
              "      filter: drop-shadow(0px 1px 2px rgba(0, 0, 0, 0.3));\n",
              "      fill: #FFFFFF;\n",
              "    }\n",
              "  </style>\n",
              "\n",
              "      <script>\n",
              "        const buttonEl =\n",
              "          document.querySelector('#df-ce3418b1-e407-46f1-8c4d-02bf97ab68fd button.colab-df-convert');\n",
              "        buttonEl.style.display =\n",
              "          google.colab.kernel.accessAllowed ? 'block' : 'none';\n",
              "\n",
              "        async function convertToInteractive(key) {\n",
              "          const element = document.querySelector('#df-ce3418b1-e407-46f1-8c4d-02bf97ab68fd');\n",
              "          const dataTable =\n",
              "            await google.colab.kernel.invokeFunction('convertToInteractive',\n",
              "                                                     [key], {});\n",
              "          if (!dataTable) return;\n",
              "\n",
              "          const docLinkHtml = 'Like what you see? Visit the ' +\n",
              "            '<a target=\"_blank\" href=https://colab.research.google.com/notebooks/data_table.ipynb>data table notebook</a>'\n",
              "            + ' to learn more about interactive tables.';\n",
              "          element.innerHTML = '';\n",
              "          dataTable['output_type'] = 'display_data';\n",
              "          await google.colab.output.renderOutput(dataTable, element);\n",
              "          const docLink = document.createElement('div');\n",
              "          docLink.innerHTML = docLinkHtml;\n",
              "          element.appendChild(docLink);\n",
              "        }\n",
              "      </script>\n",
              "    </div>\n",
              "  </div>\n",
              "  "
            ],
            "text/plain": [
              "        SimLex999\n",
              "count  999.000000\n",
              "mean     4.561572\n",
              "std      2.614663\n",
              "min      0.230000\n",
              "25%      2.380000\n",
              "50%      4.670000\n",
              "75%      6.750000\n",
              "max      9.800000"
            ]
          },
          "execution_count": 48,
          "metadata": {},
          "output_type": "execute_result"
        }
      ],
      "source": [
        "# stats on the SimLex999 similarity score\n",
        "simlex.describe()"
      ]
    },
    {
      "cell_type": "markdown",
      "metadata": {
        "id": "ST3RtTcuf1Gq"
      },
      "source": [
        "<div style=\"padding:8px 0 8px 15px;border-left:3px solid #03befc;background-color:#F3F3F3;\">\n",
        "\n",
        "- 🎯 **Goal:** Select the top 50 pairs with the highest SimLex similarity score.\n",
        "</div>"
      ]
    },
    {
      "cell_type": "code",
      "execution_count": 54,
      "metadata": {
        "colab": {
          "base_uri": "https://localhost:8080/",
          "height": 1000
        },
        "id": "-FpblPW_f1Gr",
        "outputId": "068b4561-a438-403d-c83d-935ef34961ad"
      },
      "outputs": [
        {
          "data": {
            "text/html": [
              "\n",
              "  <div id=\"df-016f1b84-f082-4f47-b338-5cab4ffd51c1\">\n",
              "    <div class=\"colab-df-container\">\n",
              "      <div>\n",
              "<style scoped>\n",
              "    .dataframe tbody tr th:only-of-type {\n",
              "        vertical-align: middle;\n",
              "    }\n",
              "\n",
              "    .dataframe tbody tr th {\n",
              "        vertical-align: top;\n",
              "    }\n",
              "\n",
              "    .dataframe thead th {\n",
              "        text-align: right;\n",
              "    }\n",
              "</style>\n",
              "<table border=\"1\" class=\"dataframe\">\n",
              "  <thead>\n",
              "    <tr style=\"text-align: right;\">\n",
              "      <th></th>\n",
              "      <th>word1</th>\n",
              "      <th>word2</th>\n",
              "      <th>SimLex999</th>\n",
              "    </tr>\n",
              "  </thead>\n",
              "  <tbody>\n",
              "    <tr>\n",
              "      <th>782</th>\n",
              "      <td>vanish</td>\n",
              "      <td>disappear</td>\n",
              "      <td>9.80</td>\n",
              "    </tr>\n",
              "    <tr>\n",
              "      <th>22</th>\n",
              "      <td>quick</td>\n",
              "      <td>rapid</td>\n",
              "      <td>9.70</td>\n",
              "    </tr>\n",
              "    <tr>\n",
              "      <th>205</th>\n",
              "      <td>creator</td>\n",
              "      <td>maker</td>\n",
              "      <td>9.62</td>\n",
              "    </tr>\n",
              "    <tr>\n",
              "      <th>8</th>\n",
              "      <td>stupid</td>\n",
              "      <td>dumb</td>\n",
              "      <td>9.58</td>\n",
              "    </tr>\n",
              "    <tr>\n",
              "      <th>16</th>\n",
              "      <td>insane</td>\n",
              "      <td>crazy</td>\n",
              "      <td>9.57</td>\n",
              "    </tr>\n",
              "    <tr>\n",
              "      <th>42</th>\n",
              "      <td>large</td>\n",
              "      <td>big</td>\n",
              "      <td>9.55</td>\n",
              "    </tr>\n",
              "    <tr>\n",
              "      <th>3</th>\n",
              "      <td>happy</td>\n",
              "      <td>cheerful</td>\n",
              "      <td>9.55</td>\n",
              "    </tr>\n",
              "    <tr>\n",
              "      <th>140</th>\n",
              "      <td>cow</td>\n",
              "      <td>cattle</td>\n",
              "      <td>9.52</td>\n",
              "    </tr>\n",
              "    <tr>\n",
              "      <th>134</th>\n",
              "      <td>area</td>\n",
              "      <td>region</td>\n",
              "      <td>9.47</td>\n",
              "    </tr>\n",
              "    <tr>\n",
              "      <th>18</th>\n",
              "      <td>large</td>\n",
              "      <td>huge</td>\n",
              "      <td>9.47</td>\n",
              "    </tr>\n",
              "    <tr>\n",
              "      <th>28</th>\n",
              "      <td>simple</td>\n",
              "      <td>easy</td>\n",
              "      <td>9.40</td>\n",
              "    </tr>\n",
              "    <tr>\n",
              "      <th>71</th>\n",
              "      <td>bizarre</td>\n",
              "      <td>strange</td>\n",
              "      <td>9.37</td>\n",
              "    </tr>\n",
              "    <tr>\n",
              "      <th>121</th>\n",
              "      <td>student</td>\n",
              "      <td>pupil</td>\n",
              "      <td>9.35</td>\n",
              "    </tr>\n",
              "    <tr>\n",
              "      <th>234</th>\n",
              "      <td>attorney</td>\n",
              "      <td>lawyer</td>\n",
              "      <td>9.35</td>\n",
              "    </tr>\n",
              "    <tr>\n",
              "      <th>781</th>\n",
              "      <td>occur</td>\n",
              "      <td>happen</td>\n",
              "      <td>9.32</td>\n",
              "    </tr>\n",
              "    <tr>\n",
              "      <th>162</th>\n",
              "      <td>hallway</td>\n",
              "      <td>corridor</td>\n",
              "      <td>9.28</td>\n",
              "    </tr>\n",
              "    <tr>\n",
              "      <th>799</th>\n",
              "      <td>inform</td>\n",
              "      <td>notify</td>\n",
              "      <td>9.25</td>\n",
              "    </tr>\n",
              "    <tr>\n",
              "      <th>128</th>\n",
              "      <td>teacher</td>\n",
              "      <td>instructor</td>\n",
              "      <td>9.25</td>\n",
              "    </tr>\n",
              "    <tr>\n",
              "      <th>1</th>\n",
              "      <td>smart</td>\n",
              "      <td>intelligent</td>\n",
              "      <td>9.20</td>\n",
              "    </tr>\n",
              "    <tr>\n",
              "      <th>143</th>\n",
              "      <td>taxi</td>\n",
              "      <td>cab</td>\n",
              "      <td>9.20</td>\n",
              "    </tr>\n",
              "    <tr>\n",
              "      <th>34</th>\n",
              "      <td>weird</td>\n",
              "      <td>odd</td>\n",
              "      <td>9.20</td>\n",
              "    </tr>\n",
              "    <tr>\n",
              "      <th>529</th>\n",
              "      <td>drizzle</td>\n",
              "      <td>rain</td>\n",
              "      <td>9.17</td>\n",
              "    </tr>\n",
              "    <tr>\n",
              "      <th>65</th>\n",
              "      <td>scarce</td>\n",
              "      <td>rare</td>\n",
              "      <td>9.17</td>\n",
              "    </tr>\n",
              "    <tr>\n",
              "      <th>6</th>\n",
              "      <td>happy</td>\n",
              "      <td>glad</td>\n",
              "      <td>9.17</td>\n",
              "    </tr>\n",
              "    <tr>\n",
              "      <th>786</th>\n",
              "      <td>protect</td>\n",
              "      <td>defend</td>\n",
              "      <td>9.13</td>\n",
              "    </tr>\n",
              "    <tr>\n",
              "      <th>784</th>\n",
              "      <td>plead</td>\n",
              "      <td>beg</td>\n",
              "      <td>9.08</td>\n",
              "    </tr>\n",
              "    <tr>\n",
              "      <th>885</th>\n",
              "      <td>declare</td>\n",
              "      <td>announce</td>\n",
              "      <td>9.08</td>\n",
              "    </tr>\n",
              "    <tr>\n",
              "      <th>298</th>\n",
              "      <td>boundary</td>\n",
              "      <td>border</td>\n",
              "      <td>9.08</td>\n",
              "    </tr>\n",
              "    <tr>\n",
              "      <th>165</th>\n",
              "      <td>cop</td>\n",
              "      <td>sheriff</td>\n",
              "      <td>9.05</td>\n",
              "    </tr>\n",
              "    <tr>\n",
              "      <th>442</th>\n",
              "      <td>adversary</td>\n",
              "      <td>opponent</td>\n",
              "      <td>9.05</td>\n",
              "    </tr>\n",
              "    <tr>\n",
              "      <th>352</th>\n",
              "      <td>pact</td>\n",
              "      <td>agreement</td>\n",
              "      <td>9.02</td>\n",
              "    </tr>\n",
              "    <tr>\n",
              "      <th>385</th>\n",
              "      <td>corporation</td>\n",
              "      <td>business</td>\n",
              "      <td>9.02</td>\n",
              "    </tr>\n",
              "    <tr>\n",
              "      <th>236</th>\n",
              "      <td>business</td>\n",
              "      <td>company</td>\n",
              "      <td>9.02</td>\n",
              "    </tr>\n",
              "    <tr>\n",
              "      <th>25</th>\n",
              "      <td>strange</td>\n",
              "      <td>odd</td>\n",
              "      <td>9.02</td>\n",
              "    </tr>\n",
              "    <tr>\n",
              "      <th>186</th>\n",
              "      <td>victory</td>\n",
              "      <td>triumph</td>\n",
              "      <td>8.98</td>\n",
              "    </tr>\n",
              "    <tr>\n",
              "      <th>265</th>\n",
              "      <td>abundance</td>\n",
              "      <td>plenty</td>\n",
              "      <td>8.97</td>\n",
              "    </tr>\n",
              "    <tr>\n",
              "      <th>59</th>\n",
              "      <td>essential</td>\n",
              "      <td>necessary</td>\n",
              "      <td>8.97</td>\n",
              "    </tr>\n",
              "    <tr>\n",
              "      <th>9</th>\n",
              "      <td>weird</td>\n",
              "      <td>strange</td>\n",
              "      <td>8.93</td>\n",
              "    </tr>\n",
              "    <tr>\n",
              "      <th>592</th>\n",
              "      <td>journey</td>\n",
              "      <td>trip</td>\n",
              "      <td>8.88</td>\n",
              "    </tr>\n",
              "    <tr>\n",
              "      <th>370</th>\n",
              "      <td>physician</td>\n",
              "      <td>doctor</td>\n",
              "      <td>8.88</td>\n",
              "    </tr>\n",
              "    <tr>\n",
              "      <th>816</th>\n",
              "      <td>decide</td>\n",
              "      <td>choose</td>\n",
              "      <td>8.87</td>\n",
              "    </tr>\n",
              "    <tr>\n",
              "      <th>541</th>\n",
              "      <td>task</td>\n",
              "      <td>job</td>\n",
              "      <td>8.87</td>\n",
              "    </tr>\n",
              "    <tr>\n",
              "      <th>129</th>\n",
              "      <td>movie</td>\n",
              "      <td>film</td>\n",
              "      <td>8.87</td>\n",
              "    </tr>\n",
              "    <tr>\n",
              "      <th>819</th>\n",
              "      <td>roam</td>\n",
              "      <td>wander</td>\n",
              "      <td>8.83</td>\n",
              "    </tr>\n",
              "    <tr>\n",
              "      <th>285</th>\n",
              "      <td>shore</td>\n",
              "      <td>coast</td>\n",
              "      <td>8.83</td>\n",
              "    </tr>\n",
              "    <tr>\n",
              "      <th>839</th>\n",
              "      <td>acquire</td>\n",
              "      <td>get</td>\n",
              "      <td>8.82</td>\n",
              "    </tr>\n",
              "    <tr>\n",
              "      <th>945</th>\n",
              "      <td>contemplate</td>\n",
              "      <td>think</td>\n",
              "      <td>8.82</td>\n",
              "    </tr>\n",
              "    <tr>\n",
              "      <th>62</th>\n",
              "      <td>crucial</td>\n",
              "      <td>important</td>\n",
              "      <td>8.82</td>\n",
              "    </tr>\n",
              "    <tr>\n",
              "      <th>303</th>\n",
              "      <td>heroine</td>\n",
              "      <td>hero</td>\n",
              "      <td>8.78</td>\n",
              "    </tr>\n",
              "    <tr>\n",
              "      <th>120</th>\n",
              "      <td>friend</td>\n",
              "      <td>buddy</td>\n",
              "      <td>8.78</td>\n",
              "    </tr>\n",
              "  </tbody>\n",
              "</table>\n",
              "</div>\n",
              "      <button class=\"colab-df-convert\" onclick=\"convertToInteractive('df-016f1b84-f082-4f47-b338-5cab4ffd51c1')\"\n",
              "              title=\"Convert this dataframe to an interactive table.\"\n",
              "              style=\"display:none;\">\n",
              "        \n",
              "  <svg xmlns=\"http://www.w3.org/2000/svg\" height=\"24px\"viewBox=\"0 0 24 24\"\n",
              "       width=\"24px\">\n",
              "    <path d=\"M0 0h24v24H0V0z\" fill=\"none\"/>\n",
              "    <path d=\"M18.56 5.44l.94 2.06.94-2.06 2.06-.94-2.06-.94-.94-2.06-.94 2.06-2.06.94zm-11 1L8.5 8.5l.94-2.06 2.06-.94-2.06-.94L8.5 2.5l-.94 2.06-2.06.94zm10 10l.94 2.06.94-2.06 2.06-.94-2.06-.94-.94-2.06-.94 2.06-2.06.94z\"/><path d=\"M17.41 7.96l-1.37-1.37c-.4-.4-.92-.59-1.43-.59-.52 0-1.04.2-1.43.59L10.3 9.45l-7.72 7.72c-.78.78-.78 2.05 0 2.83L4 21.41c.39.39.9.59 1.41.59.51 0 1.02-.2 1.41-.59l7.78-7.78 2.81-2.81c.8-.78.8-2.07 0-2.86zM5.41 20L4 18.59l7.72-7.72 1.47 1.35L5.41 20z\"/>\n",
              "  </svg>\n",
              "      </button>\n",
              "      \n",
              "  <style>\n",
              "    .colab-df-container {\n",
              "      display:flex;\n",
              "      flex-wrap:wrap;\n",
              "      gap: 12px;\n",
              "    }\n",
              "\n",
              "    .colab-df-convert {\n",
              "      background-color: #E8F0FE;\n",
              "      border: none;\n",
              "      border-radius: 50%;\n",
              "      cursor: pointer;\n",
              "      display: none;\n",
              "      fill: #1967D2;\n",
              "      height: 32px;\n",
              "      padding: 0 0 0 0;\n",
              "      width: 32px;\n",
              "    }\n",
              "\n",
              "    .colab-df-convert:hover {\n",
              "      background-color: #E2EBFA;\n",
              "      box-shadow: 0px 1px 2px rgba(60, 64, 67, 0.3), 0px 1px 3px 1px rgba(60, 64, 67, 0.15);\n",
              "      fill: #174EA6;\n",
              "    }\n",
              "\n",
              "    [theme=dark] .colab-df-convert {\n",
              "      background-color: #3B4455;\n",
              "      fill: #D2E3FC;\n",
              "    }\n",
              "\n",
              "    [theme=dark] .colab-df-convert:hover {\n",
              "      background-color: #434B5C;\n",
              "      box-shadow: 0px 1px 3px 1px rgba(0, 0, 0, 0.15);\n",
              "      filter: drop-shadow(0px 1px 2px rgba(0, 0, 0, 0.3));\n",
              "      fill: #FFFFFF;\n",
              "    }\n",
              "  </style>\n",
              "\n",
              "      <script>\n",
              "        const buttonEl =\n",
              "          document.querySelector('#df-016f1b84-f082-4f47-b338-5cab4ffd51c1 button.colab-df-convert');\n",
              "        buttonEl.style.display =\n",
              "          google.colab.kernel.accessAllowed ? 'block' : 'none';\n",
              "\n",
              "        async function convertToInteractive(key) {\n",
              "          const element = document.querySelector('#df-016f1b84-f082-4f47-b338-5cab4ffd51c1');\n",
              "          const dataTable =\n",
              "            await google.colab.kernel.invokeFunction('convertToInteractive',\n",
              "                                                     [key], {});\n",
              "          if (!dataTable) return;\n",
              "\n",
              "          const docLinkHtml = 'Like what you see? Visit the ' +\n",
              "            '<a target=\"_blank\" href=https://colab.research.google.com/notebooks/data_table.ipynb>data table notebook</a>'\n",
              "            + ' to learn more about interactive tables.';\n",
              "          element.innerHTML = '';\n",
              "          dataTable['output_type'] = 'display_data';\n",
              "          await google.colab.output.renderOutput(dataTable, element);\n",
              "          const docLink = document.createElement('div');\n",
              "          docLink.innerHTML = docLinkHtml;\n",
              "          element.appendChild(docLink);\n",
              "        }\n",
              "      </script>\n",
              "    </div>\n",
              "  </div>\n",
              "  "
            ],
            "text/plain": [
              "           word1        word2  SimLex999\n",
              "782       vanish    disappear       9.80\n",
              "22         quick        rapid       9.70\n",
              "205      creator        maker       9.62\n",
              "8         stupid         dumb       9.58\n",
              "16        insane        crazy       9.57\n",
              "42         large          big       9.55\n",
              "3          happy     cheerful       9.55\n",
              "140          cow       cattle       9.52\n",
              "134         area       region       9.47\n",
              "18         large         huge       9.47\n",
              "28        simple         easy       9.40\n",
              "71       bizarre      strange       9.37\n",
              "121      student        pupil       9.35\n",
              "234     attorney       lawyer       9.35\n",
              "781        occur       happen       9.32\n",
              "162      hallway     corridor       9.28\n",
              "799       inform       notify       9.25\n",
              "128      teacher   instructor       9.25\n",
              "1          smart  intelligent       9.20\n",
              "143         taxi          cab       9.20\n",
              "34         weird          odd       9.20\n",
              "529      drizzle         rain       9.17\n",
              "65        scarce         rare       9.17\n",
              "6          happy         glad       9.17\n",
              "786      protect       defend       9.13\n",
              "784        plead          beg       9.08\n",
              "885      declare     announce       9.08\n",
              "298     boundary       border       9.08\n",
              "165          cop      sheriff       9.05\n",
              "442    adversary     opponent       9.05\n",
              "352         pact    agreement       9.02\n",
              "385  corporation     business       9.02\n",
              "236     business      company       9.02\n",
              "25       strange          odd       9.02\n",
              "186      victory      triumph       8.98\n",
              "265    abundance       plenty       8.97\n",
              "59     essential    necessary       8.97\n",
              "9          weird      strange       8.93\n",
              "592      journey         trip       8.88\n",
              "370    physician       doctor       8.88\n",
              "816       decide       choose       8.87\n",
              "541         task          job       8.87\n",
              "129        movie         film       8.87\n",
              "819         roam       wander       8.83\n",
              "285        shore        coast       8.83\n",
              "839      acquire          get       8.82\n",
              "945  contemplate        think       8.82\n",
              "62       crucial    important       8.82\n",
              "303      heroine         hero       8.78\n",
              "120       friend        buddy       8.78"
            ]
          },
          "execution_count": 54,
          "metadata": {},
          "output_type": "execute_result"
        }
      ],
      "source": [
        "# select a subset of word-pairs with the highest similiarity score given by annotators\n",
        "top50sim = simlex.sort_values(\"SimLex999\", ascending=False).head(50)\n",
        "top50sim"
      ]
    },
    {
      "cell_type": "markdown",
      "metadata": {
        "id": "PlopHSBnf1Gr"
      },
      "source": [
        "<div style=\"padding:8px 0 8px 15px;border-left:3px solid #03befc;background-color:#F3F3F3;\">\n",
        "\n",
        "- 🎯 **Goal:** For each word pair from `simlex_similar_pairs`, compute the similarity between the GloVe embeddings of the words.\n",
        "- 💻 **API:** You can use Gensim's `.similarity` function.\n",
        "\n",
        "</div>"
      ]
    },
    {
      "cell_type": "code",
      "execution_count": 87,
      "metadata": {
        "id": "MjLExQq7f1Gr"
      },
      "outputs": [],
      "source": [
        "# computes the similarities of each pair using each word embedding model\n",
        "from scipy.spatial.distance import cosine\n",
        "\n",
        "similarities = top50sim.assign(similarity_glove=lambda df: [glove_vectors.similarity(row[1][\"word1\"], row[1][\"word2\"]) for row in df.iterrows()])\n",
        "similarities = similarities.assign(similarity_w2v=lambda df: [w2v_vectors.similarity(row[1][\"word1\"], row[1][\"word2\"]) for row in df.iterrows()])"
      ]
    },
    {
      "cell_type": "code",
      "execution_count": 88,
      "metadata": {
        "colab": {
          "base_uri": "https://localhost:8080/",
          "height": 206
        },
        "id": "vewetZ7tf1Gr",
        "outputId": "08598a09-99a2-4753-c2b1-0067a5484abb"
      },
      "outputs": [
        {
          "data": {
            "text/html": [
              "\n",
              "  <div id=\"df-0f61bd07-a3be-414a-9a8e-427bbf47f093\">\n",
              "    <div class=\"colab-df-container\">\n",
              "      <div>\n",
              "<style scoped>\n",
              "    .dataframe tbody tr th:only-of-type {\n",
              "        vertical-align: middle;\n",
              "    }\n",
              "\n",
              "    .dataframe tbody tr th {\n",
              "        vertical-align: top;\n",
              "    }\n",
              "\n",
              "    .dataframe thead th {\n",
              "        text-align: right;\n",
              "    }\n",
              "</style>\n",
              "<table border=\"1\" class=\"dataframe\">\n",
              "  <thead>\n",
              "    <tr style=\"text-align: right;\">\n",
              "      <th></th>\n",
              "      <th>word1</th>\n",
              "      <th>word2</th>\n",
              "      <th>SimLex999</th>\n",
              "      <th>similarity_glove</th>\n",
              "      <th>similarity_w2v</th>\n",
              "    </tr>\n",
              "  </thead>\n",
              "  <tbody>\n",
              "    <tr>\n",
              "      <th>782</th>\n",
              "      <td>vanish</td>\n",
              "      <td>disappear</td>\n",
              "      <td>9.80</td>\n",
              "      <td>0.881494</td>\n",
              "      <td>0.900423</td>\n",
              "    </tr>\n",
              "    <tr>\n",
              "      <th>22</th>\n",
              "      <td>quick</td>\n",
              "      <td>rapid</td>\n",
              "      <td>9.70</td>\n",
              "      <td>0.561225</td>\n",
              "      <td>0.497791</td>\n",
              "    </tr>\n",
              "    <tr>\n",
              "      <th>205</th>\n",
              "      <td>creator</td>\n",
              "      <td>maker</td>\n",
              "      <td>9.62</td>\n",
              "      <td>0.243845</td>\n",
              "      <td>0.260506</td>\n",
              "    </tr>\n",
              "    <tr>\n",
              "      <th>8</th>\n",
              "      <td>stupid</td>\n",
              "      <td>dumb</td>\n",
              "      <td>9.58</td>\n",
              "      <td>0.836065</td>\n",
              "      <td>0.817314</td>\n",
              "    </tr>\n",
              "    <tr>\n",
              "      <th>16</th>\n",
              "      <td>insane</td>\n",
              "      <td>crazy</td>\n",
              "      <td>9.57</td>\n",
              "      <td>0.591737</td>\n",
              "      <td>0.733904</td>\n",
              "    </tr>\n",
              "  </tbody>\n",
              "</table>\n",
              "</div>\n",
              "      <button class=\"colab-df-convert\" onclick=\"convertToInteractive('df-0f61bd07-a3be-414a-9a8e-427bbf47f093')\"\n",
              "              title=\"Convert this dataframe to an interactive table.\"\n",
              "              style=\"display:none;\">\n",
              "        \n",
              "  <svg xmlns=\"http://www.w3.org/2000/svg\" height=\"24px\"viewBox=\"0 0 24 24\"\n",
              "       width=\"24px\">\n",
              "    <path d=\"M0 0h24v24H0V0z\" fill=\"none\"/>\n",
              "    <path d=\"M18.56 5.44l.94 2.06.94-2.06 2.06-.94-2.06-.94-.94-2.06-.94 2.06-2.06.94zm-11 1L8.5 8.5l.94-2.06 2.06-.94-2.06-.94L8.5 2.5l-.94 2.06-2.06.94zm10 10l.94 2.06.94-2.06 2.06-.94-2.06-.94-.94-2.06-.94 2.06-2.06.94z\"/><path d=\"M17.41 7.96l-1.37-1.37c-.4-.4-.92-.59-1.43-.59-.52 0-1.04.2-1.43.59L10.3 9.45l-7.72 7.72c-.78.78-.78 2.05 0 2.83L4 21.41c.39.39.9.59 1.41.59.51 0 1.02-.2 1.41-.59l7.78-7.78 2.81-2.81c.8-.78.8-2.07 0-2.86zM5.41 20L4 18.59l7.72-7.72 1.47 1.35L5.41 20z\"/>\n",
              "  </svg>\n",
              "      </button>\n",
              "      \n",
              "  <style>\n",
              "    .colab-df-container {\n",
              "      display:flex;\n",
              "      flex-wrap:wrap;\n",
              "      gap: 12px;\n",
              "    }\n",
              "\n",
              "    .colab-df-convert {\n",
              "      background-color: #E8F0FE;\n",
              "      border: none;\n",
              "      border-radius: 50%;\n",
              "      cursor: pointer;\n",
              "      display: none;\n",
              "      fill: #1967D2;\n",
              "      height: 32px;\n",
              "      padding: 0 0 0 0;\n",
              "      width: 32px;\n",
              "    }\n",
              "\n",
              "    .colab-df-convert:hover {\n",
              "      background-color: #E2EBFA;\n",
              "      box-shadow: 0px 1px 2px rgba(60, 64, 67, 0.3), 0px 1px 3px 1px rgba(60, 64, 67, 0.15);\n",
              "      fill: #174EA6;\n",
              "    }\n",
              "\n",
              "    [theme=dark] .colab-df-convert {\n",
              "      background-color: #3B4455;\n",
              "      fill: #D2E3FC;\n",
              "    }\n",
              "\n",
              "    [theme=dark] .colab-df-convert:hover {\n",
              "      background-color: #434B5C;\n",
              "      box-shadow: 0px 1px 3px 1px rgba(0, 0, 0, 0.15);\n",
              "      filter: drop-shadow(0px 1px 2px rgba(0, 0, 0, 0.3));\n",
              "      fill: #FFFFFF;\n",
              "    }\n",
              "  </style>\n",
              "\n",
              "      <script>\n",
              "        const buttonEl =\n",
              "          document.querySelector('#df-0f61bd07-a3be-414a-9a8e-427bbf47f093 button.colab-df-convert');\n",
              "        buttonEl.style.display =\n",
              "          google.colab.kernel.accessAllowed ? 'block' : 'none';\n",
              "\n",
              "        async function convertToInteractive(key) {\n",
              "          const element = document.querySelector('#df-0f61bd07-a3be-414a-9a8e-427bbf47f093');\n",
              "          const dataTable =\n",
              "            await google.colab.kernel.invokeFunction('convertToInteractive',\n",
              "                                                     [key], {});\n",
              "          if (!dataTable) return;\n",
              "\n",
              "          const docLinkHtml = 'Like what you see? Visit the ' +\n",
              "            '<a target=\"_blank\" href=https://colab.research.google.com/notebooks/data_table.ipynb>data table notebook</a>'\n",
              "            + ' to learn more about interactive tables.';\n",
              "          element.innerHTML = '';\n",
              "          dataTable['output_type'] = 'display_data';\n",
              "          await google.colab.output.renderOutput(dataTable, element);\n",
              "          const docLink = document.createElement('div');\n",
              "          docLink.innerHTML = docLinkHtml;\n",
              "          element.appendChild(docLink);\n",
              "        }\n",
              "      </script>\n",
              "    </div>\n",
              "  </div>\n",
              "  "
            ],
            "text/plain": [
              "       word1      word2  SimLex999  similarity_glove  similarity_w2v\n",
              "782   vanish  disappear       9.80          0.881494        0.900423\n",
              "22     quick      rapid       9.70          0.561225        0.497791\n",
              "205  creator      maker       9.62          0.243845        0.260506\n",
              "8     stupid       dumb       9.58          0.836065        0.817314\n",
              "16    insane      crazy       9.57          0.591737        0.733904"
            ]
          },
          "execution_count": 88,
          "metadata": {},
          "output_type": "execute_result"
        }
      ],
      "source": [
        "similarities.head()"
      ]
    },
    {
      "cell_type": "code",
      "execution_count": 89,
      "metadata": {
        "colab": {
          "base_uri": "https://localhost:8080/",
          "height": 382
        },
        "id": "HxaCrM-Lf1Gr",
        "outputId": "f572e1eb-5dcd-4b32-aef4-fbe9721f3e04"
      },
      "outputs": [
        {
          "data": {
            "text/plain": [
              "<seaborn.axisgrid.FacetGrid at 0x7f4d16755760>"
            ]
          },
          "execution_count": 89,
          "metadata": {},
          "output_type": "execute_result"
        },
        {
          "data": {
            "image/png": "[encoded data removed]",
            "text/plain": [
              "<Figure size 454.35x360 with 1 Axes>"
            ]
          },
          "metadata": {},
          "output_type": "display_data"
        }
      ],
      "source": [
        "# plots the \n",
        "sims_w2v = similarities[['similarity_w2v']].rename(columns = {'similarity_w2v': 'similarity'})\n",
        "sims_w2v['model'] = 'Word2vec'\n",
        "sims_glove = similarities[['similarity_glove']].rename(columns = {'similarity_glove': 'similarity'})\n",
        "sims_glove['model'] = 'GloVe'\n",
        "to_plot = pd.concat([sims_w2v, sims_glove], ignore_index=True)\n",
        "sns.displot(to_plot, x=\"similarity\", hue=\"model\", kind=\"kde\")"
      ]
    },
    {
      "cell_type": "markdown",
      "metadata": {
        "id": "qazE9sldf1Gr"
      },
      "source": [
        "<div style=\"padding:8px 0 8px 15px;border-left:3px solid gray;background-color:#F3F3F3;\">\n",
        "\n",
        "#### Extra quiz: \n",
        "Think about which model performs best and why based on your knowledge of how the embedding models have been trained.\n",
        "\n",
        "</div>"
      ]
    },
    {
      "cell_type": "markdown",
      "metadata": {
        "id": "chTG4rbxf1Gr"
      },
      "source": [
        "----"
      ]
    },
    {
      "cell_type": "markdown",
      "metadata": {
        "id": "Ca05HY80f1Gs"
      },
      "source": [
        "<a name=\"3\"></a>\n",
        "## 3. TASK B: Sentiment analysis of movie reviews\n",
        "\n",
        "For this part, we will be using only the GloVe pre-trained embeddings. \n",
        "\n",
        "**Data:** We will build a sentiment classification model using the IMDB review dataset.\n",
        "\n",
        "> - Download the dataset [here](https://www.kaggle.com/datasets/lakshmi25npathi/imdb-dataset-of-50k-movie-reviews/download?datasetVersionNumber=1)\n",
        "> - Save the .csv file in the same dir as this notebook. \n",
        "\n",
        "The IMDB dataset has 50K movie reviews for natural language processing or Text analytics. This is a dataset for binary sentiment classification containing substantially more data than previous benchmark datasets. We provide a set of 25,000 highly polar movie reviews for training and 25,000 for testing. So, predict the number of positive and negative reviews using either classification or deep learning algorithms.\n",
        "\n",
        "For more dataset information, please go through the following link,\n",
        "http://ai.stanford.edu/~amaas/data/sentiment/"
      ]
    },
    {
      "cell_type": "markdown",
      "metadata": {
        "id": "-R-4nHsMf1Gs"
      },
      "source": [
        "![IMDB-reviews-dataset-stats.png](attachment:IMDB-reviews-dataset-stats.png)"
      ]
    },
    {
      "cell_type": "markdown",
      "metadata": {
        "id": "NnFwFaHyf1Gs"
      },
      "source": [
        "### 3.1 Dataset exploration"
      ]
    },
    {
      "cell_type": "code",
      "execution_count": 92,
      "metadata": {
        "colab": {
          "base_uri": "https://localhost:8080/",
          "height": 206
        },
        "id": "7Q0mQT4-f1Gt",
        "outputId": "a925b139-da7a-4d9d-be42-770d64e21320"
      },
      "outputs": [
        {
          "data": {
            "text/html": [
              "\n",
              "  <div id=\"df-f95cbc73-1a41-4bb1-a181-c478bebe4d44\">\n",
              "    <div class=\"colab-df-container\">\n",
              "      <div>\n",
              "<style scoped>\n",
              "    .dataframe tbody tr th:only-of-type {\n",
              "        vertical-align: middle;\n",
              "    }\n",
              "\n",
              "    .dataframe tbody tr th {\n",
              "        vertical-align: top;\n",
              "    }\n",
              "\n",
              "    .dataframe thead th {\n",
              "        text-align: right;\n",
              "    }\n",
              "</style>\n",
              "<table border=\"1\" class=\"dataframe\">\n",
              "  <thead>\n",
              "    <tr style=\"text-align: right;\">\n",
              "      <th></th>\n",
              "      <th>review</th>\n",
              "      <th>sentiment</th>\n",
              "    </tr>\n",
              "  </thead>\n",
              "  <tbody>\n",
              "    <tr>\n",
              "      <th>0</th>\n",
              "      <td>One of the other reviewers has mentioned that ...</td>\n",
              "      <td>positive</td>\n",
              "    </tr>\n",
              "    <tr>\n",
              "      <th>1</th>\n",
              "      <td>A wonderful little production. &lt;br /&gt;&lt;br /&gt;The...</td>\n",
              "      <td>positive</td>\n",
              "    </tr>\n",
              "    <tr>\n",
              "      <th>2</th>\n",
              "      <td>I thought this was a wonderful way to spend ti...</td>\n",
              "      <td>positive</td>\n",
              "    </tr>\n",
              "    <tr>\n",
              "      <th>3</th>\n",
              "      <td>Basically there's a family where a little boy ...</td>\n",
              "      <td>negative</td>\n",
              "    </tr>\n",
              "    <tr>\n",
              "      <th>4</th>\n",
              "      <td>Petter Mattei's \"Love in the Time of Money\" is...</td>\n",
              "      <td>positive</td>\n",
              "    </tr>\n",
              "  </tbody>\n",
              "</table>\n",
              "</div>\n",
              "      <button class=\"colab-df-convert\" onclick=\"convertToInteractive('df-f95cbc73-1a41-4bb1-a181-c478bebe4d44')\"\n",
              "              title=\"Convert this dataframe to an interactive table.\"\n",
              "              style=\"display:none;\">\n",
              "        \n",
              "  <svg xmlns=\"http://www.w3.org/2000/svg\" height=\"24px\"viewBox=\"0 0 24 24\"\n",
              "       width=\"24px\">\n",
              "    <path d=\"M0 0h24v24H0V0z\" fill=\"none\"/>\n",
              "    <path d=\"M18.56 5.44l.94 2.06.94-2.06 2.06-.94-2.06-.94-.94-2.06-.94 2.06-2.06.94zm-11 1L8.5 8.5l.94-2.06 2.06-.94-2.06-.94L8.5 2.5l-.94 2.06-2.06.94zm10 10l.94 2.06.94-2.06 2.06-.94-2.06-.94-.94-2.06-.94 2.06-2.06.94z\"/><path d=\"M17.41 7.96l-1.37-1.37c-.4-.4-.92-.59-1.43-.59-.52 0-1.04.2-1.43.59L10.3 9.45l-7.72 7.72c-.78.78-.78 2.05 0 2.83L4 21.41c.39.39.9.59 1.41.59.51 0 1.02-.2 1.41-.59l7.78-7.78 2.81-2.81c.8-.78.8-2.07 0-2.86zM5.41 20L4 18.59l7.72-7.72 1.47 1.35L5.41 20z\"/>\n",
              "  </svg>\n",
              "      </button>\n",
              "      \n",
              "  <style>\n",
              "    .colab-df-container {\n",
              "      display:flex;\n",
              "      flex-wrap:wrap;\n",
              "      gap: 12px;\n",
              "    }\n",
              "\n",
              "    .colab-df-convert {\n",
              "      background-color: #E8F0FE;\n",
              "      border: none;\n",
              "      border-radius: 50%;\n",
              "      cursor: pointer;\n",
              "      display: none;\n",
              "      fill: #1967D2;\n",
              "      height: 32px;\n",
              "      padding: 0 0 0 0;\n",
              "      width: 32px;\n",
              "    }\n",
              "\n",
              "    .colab-df-convert:hover {\n",
              "      background-color: #E2EBFA;\n",
              "      box-shadow: 0px 1px 2px rgba(60, 64, 67, 0.3), 0px 1px 3px 1px rgba(60, 64, 67, 0.15);\n",
              "      fill: #174EA6;\n",
              "    }\n",
              "\n",
              "    [theme=dark] .colab-df-convert {\n",
              "      background-color: #3B4455;\n",
              "      fill: #D2E3FC;\n",
              "    }\n",
              "\n",
              "    [theme=dark] .colab-df-convert:hover {\n",
              "      background-color: #434B5C;\n",
              "      box-shadow: 0px 1px 3px 1px rgba(0, 0, 0, 0.15);\n",
              "      filter: drop-shadow(0px 1px 2px rgba(0, 0, 0, 0.3));\n",
              "      fill: #FFFFFF;\n",
              "    }\n",
              "  </style>\n",
              "\n",
              "      <script>\n",
              "        const buttonEl =\n",
              "          document.querySelector('#df-f95cbc73-1a41-4bb1-a181-c478bebe4d44 button.colab-df-convert');\n",
              "        buttonEl.style.display =\n",
              "          google.colab.kernel.accessAllowed ? 'block' : 'none';\n",
              "\n",
              "        async function convertToInteractive(key) {\n",
              "          const element = document.querySelector('#df-f95cbc73-1a41-4bb1-a181-c478bebe4d44');\n",
              "          const dataTable =\n",
              "            await google.colab.kernel.invokeFunction('convertToInteractive',\n",
              "                                                     [key], {});\n",
              "          if (!dataTable) return;\n",
              "\n",
              "          const docLinkHtml = 'Like what you see? Visit the ' +\n",
              "            '<a target=\"_blank\" href=https://colab.research.google.com/notebooks/data_table.ipynb>data table notebook</a>'\n",
              "            + ' to learn more about interactive tables.';\n",
              "          element.innerHTML = '';\n",
              "          dataTable['output_type'] = 'display_data';\n",
              "          await google.colab.output.renderOutput(dataTable, element);\n",
              "          const docLink = document.createElement('div');\n",
              "          docLink.innerHTML = docLinkHtml;\n",
              "          element.appendChild(docLink);\n",
              "        }\n",
              "      </script>\n",
              "    </div>\n",
              "  </div>\n",
              "  "
            ],
            "text/plain": [
              "                                              review sentiment\n",
              "0  One of the other reviewers has mentioned that ...  positive\n",
              "1  A wonderful little production. <br /><br />The...  positive\n",
              "2  I thought this was a wonderful way to spend ti...  positive\n",
              "3  Basically there's a family where a little boy ...  negative\n",
              "4  Petter Mattei's \"Love in the Time of Money\" is...  positive"
            ]
          },
          "execution_count": 92,
          "metadata": {},
          "output_type": "execute_result"
        }
      ],
      "source": [
        "#read dataset\n",
        "movie_reviews = pd.read_csv('mnlp_labs/week_1/IMDB/IMDB Dataset.csv')\n",
        "movie_reviews.head()"
      ]
    },
    {
      "cell_type": "code",
      "execution_count": 93,
      "metadata": {
        "colab": {
          "base_uri": "https://localhost:8080/"
        },
        "id": "QmFPrSWff1Gt",
        "outputId": "97cee73a-7120-476b-cf56-2e67a5b1160b"
      },
      "outputs": [
        {
          "name": "stdout",
          "output_type": "stream",
          "text": [
            "Number of movie reviews: 50000\n",
            "Number of classes: 2 with values: ['positive' 'negative']\n"
          ]
        }
      ],
      "source": [
        "print('Number of movie reviews: {}'.format(len(movie_reviews)))\n",
        "classes = movie_reviews['sentiment'].unique()\n",
        "print('Number of classes: {} with values: {}'.format(len(classes), classes))"
      ]
    },
    {
      "cell_type": "code",
      "execution_count": 94,
      "metadata": {
        "colab": {
          "base_uri": "https://localhost:8080/",
          "height": 406
        },
        "id": "5dZcqo13f1Gt",
        "outputId": "a07fdccd-3d63-4dfb-8c64-3448df3c488d"
      },
      "outputs": [
        {
          "name": "stdout",
          "output_type": "stream",
          "text": [
            "# of positive samples: 25000\n",
            "# of negative samples: 25000\n"
          ]
        },
        {
          "data": {
            "text/plain": [
              "<AxesSubplot:xlabel='sentiment', ylabel='count'>"
            ]
          },
          "execution_count": 94,
          "metadata": {},
          "output_type": "execute_result"
        },
        {
          "data": {
            "image/png": "[encoded data removed]",
            "text/plain": [
              "<Figure size 410.4x379.44 with 1 Axes>"
            ]
          },
          "metadata": {},
          "output_type": "display_data"
        }
      ],
      "source": [
        "# class distribution\n",
        "positive = len(movie_reviews[movie_reviews['sentiment']=='positive'])\n",
        "negative = len(movie_reviews[movie_reviews['sentiment']=='negative'])\n",
        "\n",
        "print('# of positive samples: {}'.format(positive))\n",
        "print('# of negative samples: {}'.format(negative))\n",
        "\n",
        "sns.set(rc={'figure.figsize':(5.7,5.27)})\n",
        "sns.countplot(x=movie_reviews['sentiment'])"
      ]
    },
    {
      "cell_type": "markdown",
      "metadata": {
        "id": "jCLuTfrBf1Gu"
      },
      "source": [
        "### 3.2 Data preprocessing\n",
        "\n",
        "To build our classifier, we will leverage the pre-trained word embeddings (GloVe). Going from word embeddings to sentence vectors, we will need to find a way to take into account the embeddings of all the words each review contains. We will apply 2 techniques to do so: average and max pooling.  \n",
        "\n",
        "We will perform the following preprocessing steps:\n",
        "- Change the classes from str (negative, positive) to binary `(0, 1)`.\n",
        "- Get word embeddings and calculate the sentence vectors with both max and avg pooling.\n",
        "- Create a `pytorch.Dataset` instance of the IMDB data."
      ]
    },
    {
      "cell_type": "markdown",
      "metadata": {
        "id": "qGuX1ykFf1Gu"
      },
      "source": [
        "#### From class names to binary"
      ]
    },
    {
      "cell_type": "markdown",
      "metadata": {
        "id": "qFBA_rvef1Gv"
      },
      "source": [
        "<div style=\"padding:8px 0 8px 15px;border-left:3px solid #03befc;background-color:#F3F3F3;\">\n",
        "\n",
        "- 🎯 **Goal:** Change the classe names from str (negative, positive) to binary `(0, 1)` and add it as a new column to the exising dataframe.\n",
        "\n",
        "</div>"
      ]
    },
    {
      "cell_type": "code",
      "execution_count": 97,
      "metadata": {
        "colab": {
          "base_uri": "https://localhost:8080/",
          "height": 206
        },
        "id": "1rtDmOShf1Gv",
        "outputId": "6e96969b-e5f3-4174-d028-68558b738e73"
      },
      "outputs": [
        {
          "data": {
            "text/html": [
              "\n",
              "  <div id=\"df-19c68300-1598-4d89-8930-d403fd8b6bb4\">\n",
              "    <div class=\"colab-df-container\">\n",
              "      <div>\n",
              "<style scoped>\n",
              "    .dataframe tbody tr th:only-of-type {\n",
              "        vertical-align: middle;\n",
              "    }\n",
              "\n",
              "    .dataframe tbody tr th {\n",
              "        vertical-align: top;\n",
              "    }\n",
              "\n",
              "    .dataframe thead th {\n",
              "        text-align: right;\n",
              "    }\n",
              "</style>\n",
              "<table border=\"1\" class=\"dataframe\">\n",
              "  <thead>\n",
              "    <tr style=\"text-align: right;\">\n",
              "      <th></th>\n",
              "      <th>review</th>\n",
              "      <th>sentiment</th>\n",
              "      <th>target</th>\n",
              "    </tr>\n",
              "  </thead>\n",
              "  <tbody>\n",
              "    <tr>\n",
              "      <th>0</th>\n",
              "      <td>One of the other reviewers has mentioned that ...</td>\n",
              "      <td>positive</td>\n",
              "      <td>1</td>\n",
              "    </tr>\n",
              "    <tr>\n",
              "      <th>1</th>\n",
              "      <td>A wonderful little production. &lt;br /&gt;&lt;br /&gt;The...</td>\n",
              "      <td>positive</td>\n",
              "      <td>1</td>\n",
              "    </tr>\n",
              "    <tr>\n",
              "      <th>2</th>\n",
              "      <td>I thought this was a wonderful way to spend ti...</td>\n",
              "      <td>positive</td>\n",
              "      <td>1</td>\n",
              "    </tr>\n",
              "    <tr>\n",
              "      <th>3</th>\n",
              "      <td>Basically there's a family where a little boy ...</td>\n",
              "      <td>negative</td>\n",
              "      <td>0</td>\n",
              "    </tr>\n",
              "    <tr>\n",
              "      <th>4</th>\n",
              "      <td>Petter Mattei's \"Love in the Time of Money\" is...</td>\n",
              "      <td>positive</td>\n",
              "      <td>1</td>\n",
              "    </tr>\n",
              "  </tbody>\n",
              "</table>\n",
              "</div>\n",
              "      <button class=\"colab-df-convert\" onclick=\"convertToInteractive('df-19c68300-1598-4d89-8930-d403fd8b6bb4')\"\n",
              "              title=\"Convert this dataframe to an interactive table.\"\n",
              "              style=\"display:none;\">\n",
              "        \n",
              "  <svg xmlns=\"http://www.w3.org/2000/svg\" height=\"24px\"viewBox=\"0 0 24 24\"\n",
              "       width=\"24px\">\n",
              "    <path d=\"M0 0h24v24H0V0z\" fill=\"none\"/>\n",
              "    <path d=\"M18.56 5.44l.94 2.06.94-2.06 2.06-.94-2.06-.94-.94-2.06-.94 2.06-2.06.94zm-11 1L8.5 8.5l.94-2.06 2.06-.94-2.06-.94L8.5 2.5l-.94 2.06-2.06.94zm10 10l.94 2.06.94-2.06 2.06-.94-2.06-.94-.94-2.06-.94 2.06-2.06.94z\"/><path d=\"M17.41 7.96l-1.37-1.37c-.4-.4-.92-.59-1.43-.59-.52 0-1.04.2-1.43.59L10.3 9.45l-7.72 7.72c-.78.78-.78 2.05 0 2.83L4 21.41c.39.39.9.59 1.41.59.51 0 1.02-.2 1.41-.59l7.78-7.78 2.81-2.81c.8-.78.8-2.07 0-2.86zM5.41 20L4 18.59l7.72-7.72 1.47 1.35L5.41 20z\"/>\n",
              "  </svg>\n",
              "      </button>\n",
              "      \n",
              "  <style>\n",
              "    .colab-df-container {\n",
              "      display:flex;\n",
              "      flex-wrap:wrap;\n",
              "      gap: 12px;\n",
              "    }\n",
              "\n",
              "    .colab-df-convert {\n",
              "      background-color: #E8F0FE;\n",
              "      border: none;\n",
              "      border-radius: 50%;\n",
              "      cursor: pointer;\n",
              "      display: none;\n",
              "      fill: #1967D2;\n",
              "      height: 32px;\n",
              "      padding: 0 0 0 0;\n",
              "      width: 32px;\n",
              "    }\n",
              "\n",
              "    .colab-df-convert:hover {\n",
              "      background-color: #E2EBFA;\n",
              "      box-shadow: 0px 1px 2px rgba(60, 64, 67, 0.3), 0px 1px 3px 1px rgba(60, 64, 67, 0.15);\n",
              "      fill: #174EA6;\n",
              "    }\n",
              "\n",
              "    [theme=dark] .colab-df-convert {\n",
              "      background-color: #3B4455;\n",
              "      fill: #D2E3FC;\n",
              "    }\n",
              "\n",
              "    [theme=dark] .colab-df-convert:hover {\n",
              "      background-color: #434B5C;\n",
              "      box-shadow: 0px 1px 3px 1px rgba(0, 0, 0, 0.15);\n",
              "      filter: drop-shadow(0px 1px 2px rgba(0, 0, 0, 0.3));\n",
              "      fill: #FFFFFF;\n",
              "    }\n",
              "  </style>\n",
              "\n",
              "      <script>\n",
              "        const buttonEl =\n",
              "          document.querySelector('#df-19c68300-1598-4d89-8930-d403fd8b6bb4 button.colab-df-convert');\n",
              "        buttonEl.style.display =\n",
              "          google.colab.kernel.accessAllowed ? 'block' : 'none';\n",
              "\n",
              "        async function convertToInteractive(key) {\n",
              "          const element = document.querySelector('#df-19c68300-1598-4d89-8930-d403fd8b6bb4');\n",
              "          const dataTable =\n",
              "            await google.colab.kernel.invokeFunction('convertToInteractive',\n",
              "                                                     [key], {});\n",
              "          if (!dataTable) return;\n",
              "\n",
              "          const docLinkHtml = 'Like what you see? Visit the ' +\n",
              "            '<a target=\"_blank\" href=https://colab.research.google.com/notebooks/data_table.ipynb>data table notebook</a>'\n",
              "            + ' to learn more about interactive tables.';\n",
              "          element.innerHTML = '';\n",
              "          dataTable['output_type'] = 'display_data';\n",
              "          await google.colab.output.renderOutput(dataTable, element);\n",
              "          const docLink = document.createElement('div');\n",
              "          docLink.innerHTML = docLinkHtml;\n",
              "          element.appendChild(docLink);\n",
              "        }\n",
              "      </script>\n",
              "    </div>\n",
              "  </div>\n",
              "  "
            ],
            "text/plain": [
              "                                              review sentiment  target\n",
              "0  One of the other reviewers has mentioned that ...  positive       1\n",
              "1  A wonderful little production. <br /><br />The...  positive       1\n",
              "2  I thought this was a wonderful way to spend ti...  positive       1\n",
              "3  Basically there's a family where a little boy ...  negative       0\n",
              "4  Petter Mattei's \"Love in the Time of Money\" is...  positive       1"
            ]
          },
          "execution_count": 97,
          "metadata": {},
          "output_type": "execute_result"
        }
      ],
      "source": [
        "# classes to binary\n",
        "movie_reviews[\"target\"] = movie_reviews.sentiment.apply(lambda x: 1 if x == \"positive\" else 0)\n",
        "movie_reviews.head()"
      ]
    },
    {
      "cell_type": "markdown",
      "metadata": {
        "id": "1jaawPzaf1Gv"
      },
      "source": [
        "#### From word embeddings to review embeddings"
      ]
    },
    {
      "cell_type": "markdown",
      "metadata": {
        "id": "kcHkMFbif1Gv"
      },
      "source": [
        "<div style=\"padding:8px 0 8px 15px;border-left:3px solid #03befc;background-color:#F3F3F3;\">\n",
        "\n",
        "- 🎯 **Goal:** For each review in the dataset, calculate the review vector by pooling from the review's word embeddings. Implement both max and avg pooling.\n",
        "- 💻 **API:** You can use numpy functions to manipulate the arrays. For review tokenization you can use `gensim.utils.tokenize` function.\n",
        "\n",
        "</div>"
      ]
    },
    {
      "cell_type": "code",
      "execution_count": 110,
      "metadata": {
        "colab": {
          "base_uri": "https://localhost:8080/"
        },
        "id": "6R4SPSy0f1Gw",
        "outputId": "a92a5b81-ee37-4067-ca9d-baacd9b4db75"
      },
      "outputs": [
        {
          "name": "stderr",
          "output_type": "stream",
          "text": [
            "50000it [01:02, 799.37it/s]\n"
          ]
        }
      ],
      "source": [
        "# apply embedding model to the words of the reviews and then perform pooling\n",
        "review_vectors_avg = []\n",
        "review_vectors_max  = []\n",
        "glove_vocab = set(glove_vectors.key_to_index.keys())\n",
        "for _, row in tqdm(movie_reviews.iterrows()):\n",
        "  tokens = list(tokenize(row.review))\n",
        "  word_embeddings = np.array([glove_vectors[token.lower()] for token in tokens if token.lower() in glove_vocab])\n",
        "  review_vectors_avg.append(word_embeddings.mean(axis=0)) # average of each word embedding component\n",
        "  review_vectors_max.append(word_embeddings.max(axis=0)) # max of each word embedding component\n",
        "review_vectors_avg = np.array(review_vectors_avg)\n",
        "review_vectors_max = np.array(review_vectors_max)"
      ]
    },
    {
      "cell_type": "markdown",
      "metadata": {
        "id": "vJDv9w4mf1Gw"
      },
      "source": [
        "#### Pytorch Dataset class for the imported data"
      ]
    },
    {
      "cell_type": "markdown",
      "metadata": {
        "id": "N83g27Ewf1Gw"
      },
      "source": [
        "<div style=\"padding:8px 0 8px 15px;border-left:3px solid #03befc;background-color:#F3F3F3;\">\n",
        "\n",
        "- 🎯 **Goal:** Create a pytorch Dataset class with the input data. Instantiate this class with the input data.\n",
        "- 💻 **API:** You can use `torch.utils.data.Dataset` class.\n",
        "\n",
        "</div>"
      ]
    },
    {
      "cell_type": "code",
      "execution_count": 111,
      "metadata": {
        "id": "9oDzwP_Mf1Gw"
      },
      "outputs": [],
      "source": [
        "class IMDBreviews(Dataset):\n",
        "    def __init__(self, review_vectors, targets):\n",
        "        self.x=torch.tensor(review_vectors)\n",
        "        self.y=torch.tensor(targets)\n",
        "        \n",
        "    def __len__(self):\n",
        "        return len(self.y)\n",
        "\n",
        "    def __getitem__(self,idx):\n",
        "        return self.x[idx],self.y[idx]\n",
        "    \n",
        "dataset = IMDBreviews(review_vectors_avg, movie_reviews['target'].values)"
      ]
    },
    {
      "cell_type": "code",
      "execution_count": 112,
      "metadata": {
        "colab": {
          "base_uri": "https://localhost:8080/"
        },
        "id": "60xg7cQUf1Gx",
        "outputId": "4e89739d-a28f-469f-fa92-f54cf5f36878"
      },
      "outputs": [
        {
          "name": "stdout",
          "output_type": "stream",
          "text": [
            "Total samples 50000 with sentence embedding size: 100\n"
          ]
        }
      ],
      "source": [
        "# print tensors for sanity check\n",
        "print('Total samples {} with sentence embedding size: {}'.format(dataset.x.shape[0], dataset.x.shape[1]))"
      ]
    },
    {
      "cell_type": "markdown",
      "metadata": {
        "id": "TPtrAv53f1Gx"
      },
      "source": [
        "#### Splitting dataset to train and test subsets"
      ]
    },
    {
      "cell_type": "markdown",
      "metadata": {
        "id": "KTTHLL35f1Gx"
      },
      "source": [
        "<div style=\"padding:8px 0 8px 15px;border-left:3px solid #03befc;background-color:#F3F3F3;\">\n",
        "\n",
        "- 🎯 **Goal:** Split the dataset into train and test tests (80-20% splits).\n",
        "- 💻 **API:** You can use `torch.utils.data.random_split` function.\n",
        "\n",
        "</div>"
      ]
    },
    {
      "cell_type": "code",
      "execution_count": 113,
      "metadata": {
        "id": "p_fM0iq9f1Gx"
      },
      "outputs": [],
      "source": [
        "# split to train and test sets\n",
        "train_size = int(len(dataset) * 0.8)\n",
        "test_size = int(len(dataset) * 0.2)\n",
        "train, test = torch.utils.data.random_split(dataset, [train_size, test_size])"
      ]
    },
    {
      "cell_type": "code",
      "execution_count": 114,
      "metadata": {
        "colab": {
          "base_uri": "https://localhost:8080/"
        },
        "id": "ZZHLY0sNf1Gy",
        "outputId": "67d8e8b3-c071-4b3c-de8d-9a258993e68c"
      },
      "outputs": [
        {
          "name": "stdout",
          "output_type": "stream",
          "text": [
            "Train size: 40000\n",
            "Test size: 10000\n"
          ]
        }
      ],
      "source": [
        "print('Train size: {}'.format(len(train)))\n",
        "print('Test size: {}'.format(len(test)))"
      ]
    },
    {
      "cell_type": "markdown",
      "metadata": {
        "id": "vkqZmVEYf1Gy"
      },
      "source": [
        "### 3.3 Train & evaluate a classifier on the movie reviews\n",
        "\n",
        "Once we have proprocessed the data, we will create the training and evaluation pipelines.\n"
      ]
    },
    {
      "cell_type": "markdown",
      "metadata": {
        "id": "B4q1WrMOf1Gy"
      },
      "source": [
        "#### Pytorch Module class for model setup"
      ]
    },
    {
      "cell_type": "markdown",
      "metadata": {
        "id": "RzXsmvpCf1Gy"
      },
      "source": [
        "<div style=\"padding:8px 0 8px 15px;border-left:3px solid #03befc;background-color:#F3F3F3;\">\n",
        "\n",
        "- 🎯 **Goal:** Create a pytorch model class. The architecture of the model can be as simple as a Linear layer along with a sigmoid activation function, or a more complicated deep architecture. Play around with different settings and architectures.\n",
        "- 💻 **API:** You can use `torch.nn.Module` class.\n",
        "\n",
        "</div>"
      ]
    },
    {
      "cell_type": "code",
      "execution_count": 116,
      "metadata": {
        "id": "YoZqHXBaf1Gz"
      },
      "outputs": [],
      "source": [
        "# create a pytorch nn.Module class for the simple logistic regression model\n",
        "class SentimentAnalysisModel(nn.Module):\n",
        "\n",
        "    def __init__(self, features):\n",
        "        super().__init__()\n",
        "        self.linear = nn.Linear(in_features=features.shape[1], out_features=1)\n",
        "\n",
        "    def forward(self, vector):\n",
        "        return torch.sigmoid(self.linear(vector))"
      ]
    },
    {
      "cell_type": "code",
      "execution_count": 126,
      "metadata": {
        "colab": {
          "base_uri": "https://localhost:8080/"
        },
        "id": "ZPsphncAf1Gz",
        "outputId": "19aabd20-14c8-4d24-c436-5dbfb1cf0e82"
      },
      "outputs": [
        {
          "data": {
            "text/plain": [
              "SentimentAnalysisModel(\n",
              "  (linear): Linear(in_features=100, out_features=1, bias=True)\n",
              ")"
            ]
          },
          "execution_count": 126,
          "metadata": {},
          "output_type": "execute_result"
        }
      ],
      "source": [
        "model = SentimentAnalysisModel(dataset.x)\n",
        "model"
      ]
    },
    {
      "cell_type": "code",
      "execution_count": 118,
      "metadata": {
        "colab": {
          "base_uri": "https://localhost:8080/"
        },
        "id": "3Gaq0tyWf1G0",
        "outputId": "31c29ac0-38ae-4d5e-8c1e-e230d8e331a9"
      },
      "outputs": [
        {
          "name": "stdout",
          "output_type": "stream",
          "text": [
            "The model has 101 trainable parameters\n"
          ]
        }
      ],
      "source": [
        "def count_parameters(model):\n",
        "    return sum(p.numel() for p in model.parameters() if p.requires_grad)\n",
        "\n",
        "print(f'The model has {count_parameters(model):,} trainable parameters')"
      ]
    },
    {
      "cell_type": "markdown",
      "metadata": {
        "id": "ZMOYumezf1G0"
      },
      "source": [
        "#### Pytorch Data loader class for dataset batching"
      ]
    },
    {
      "cell_type": "code",
      "execution_count": 127,
      "metadata": {
        "id": "r7rw99Tyf1G0"
      },
      "outputs": [],
      "source": [
        "# create data loader\n",
        "BATCH_SIZE = 64\n",
        "train_loader = DataLoader(train, batch_size=BATCH_SIZE, shuffle=True)\n",
        "test_loader= DataLoader(test, batch_size=BATCH_SIZE)"
      ]
    },
    {
      "cell_type": "markdown",
      "metadata": {
        "id": "LVb20lkaf1G0"
      },
      "source": [
        "#### Training the model"
      ]
    },
    {
      "cell_type": "code",
      "execution_count": 133,
      "metadata": {
        "id": "kyPXHliEf1G1"
      },
      "outputs": [],
      "source": [
        "# Construct our loss function and an Optimizer. The call to model.parameters()\n",
        "# in the SGD constructor will contain the learnable parameters of the two\n",
        "# nn.Linear modules which are members of the model.\n",
        "from torch import optim\n",
        "criterion = nn.BCELoss()\n",
        "optimizer = optim.SGD(model.parameters(), lr=1e-1)"
      ]
    },
    {
      "cell_type": "markdown",
      "metadata": {
        "id": "dh0H5srJf1G1"
      },
      "source": [
        "<div style=\"padding:8px 0 8px 15px;border-left:3px solid #03befc;background-color:#F3F3F3;\">\n",
        "\n",
        "- 🎯 **Goal:** Create the training loop: for each epoch, do the forward pass, compute the loss and do the backward propagation.\n",
        "- 💻 **API:** Check the official API for the [training process](https://pytorch.org/tutorials/beginner/blitz/cifar10_tutorial.html#train-the-network).\n",
        "\n",
        "</div>"
      ]
    },
    {
      "cell_type": "code",
      "execution_count": 156,
      "metadata": {
        "colab": {
          "base_uri": "https://localhost:8080/"
        },
        "id": "Fdb94xyof1G1",
        "outputId": "df9deb4e-a361-40ed-90b5-f1b72e482b1e"
      },
      "outputs": [
        {
          "name": "stdout",
          "output_type": "stream",
          "text": [
            "Epoch 1 | Loss: 0.4518\n",
            "Epoch 2 | Loss: 0.4514\n",
            "Epoch 3 | Loss: 0.4516\n",
            "Epoch 4 | Loss: 0.4513\n",
            "Epoch 5 | Loss: 0.4509\n",
            "Epoch 6 | Loss: 0.4508\n",
            "Epoch 7 | Loss: 0.4508\n",
            "Epoch 8 | Loss: 0.4506\n",
            "Epoch 9 | Loss: 0.4500\n",
            "Epoch 10 | Loss: 0.4501\n"
          ]
        }
      ],
      "source": [
        "# Training loop\n",
        "model.train()\n",
        "for epoch in range(10):\n",
        "    epoch_loss = 0\n",
        "    for i, data in enumerate(train_loader):\n",
        "        # get the inputs\n",
        "        vectors, labels = data\n",
        "        \n",
        "        # Forward pass: Compute predicted y by passing x to the model\n",
        "        outputs = model.forward(vectors)\n",
        "        \n",
        "        # Compute loss\n",
        "        loss = criterion(outputs.squeeze(), labels.float())\n",
        "        \n",
        "        # Perform a backward pass, and update the weights.\n",
        "        optimizer.zero_grad()\n",
        "        loss.backward()\n",
        "        optimizer.step()\n",
        "        \n",
        "        epoch_loss += loss.item()\n",
        "\n",
        "    print(f'Epoch {epoch + 1} | Loss: {(epoch_loss / len(train_loader)):.4f}')"
      ]
    },
    {
      "cell_type": "markdown",
      "metadata": {
        "id": "pQgpWX0Gf1G2"
      },
      "source": [
        "#### Inference on the test set"
      ]
    },
    {
      "cell_type": "markdown",
      "metadata": {
        "id": "ShWRYoqif1G2"
      },
      "source": [
        "\n",
        "<div style=\"padding:8px 0 8px 15px;border-left:3px solid #03befc;background-color:#F3F3F3;\">\n",
        "\n",
        "- 🎯 **Goal:** Evaluate your model on the test set: for each batch of data, do the forward pass and compute the loss and the accuracy score.\n",
        "- 💻 **API:** Check the official API for the [testing process](https://pytorch.org/tutorials/beginner/blitz/cifar10_tutorial.html#test-the-network-on-the-test-data).\n",
        "\n",
        "</div>"
      ]
    },
    {
      "cell_type": "code",
      "execution_count": 163,
      "metadata": {
        "colab": {
          "base_uri": "https://localhost:8080/"
        },
        "id": "fii3jsNKf1G2",
        "outputId": "7c6f6531-4155-4956-9fe8-9a05ba9e42a0"
      },
      "outputs": [
        {
          "name": "stdout",
          "output_type": "stream",
          "text": [
            "Test Acc: 79.56%\n"
          ]
        }
      ],
      "source": [
        "batch_loss = 0\n",
        "batch_acc = 0\n",
        "\n",
        "model.eval()\n",
        "for i, data in enumerate(test_loader, 0):\n",
        "    # get the inputs\n",
        "    vectors, labels = data\n",
        "    \n",
        "    # run forward pass\n",
        "    outputs = model.forward(vectors).squeeze()\n",
        "    \n",
        "    # Compute loss\n",
        "    test_loss = criterion(outputs, labels.float())\n",
        "    \n",
        "    # Compute accuracy\n",
        "    acc = BinaryAccuracy()\n",
        "    acc = acc(outputs >= 0.5, labels)\n",
        "    \n",
        "    batch_loss += test_loss.item()\n",
        "    batch_acc += acc.item()\n",
        "\n",
        "test_loss = batch_loss / len(test_loader)\n",
        "test_acc = batch_acc / len(test_loader)\n",
        "\n",
        "print(f'Test Acc: {test_acc*100:.2f}%')"
      ]
    },
    {
      "cell_type": "markdown",
      "metadata": {
        "id": "_QZvEl2Lf1G3"
      },
      "source": [
        "<div style=\"padding:8px 0 8px 15px;border-left:3px solid gray;background-color:#F3F3F3;\">\n",
        "\n",
        "#### Extra quiz:\n",
        "Play around with different settings (e.g. learning rate, batch size, epochs) and different architectures. Additionally try different pooling methods. Think how your design choices affect model performance on both train and test sets.\n",
        "\n",
        "</div>"
      ]
    },
    {
      "cell_type": "markdown",
      "metadata": {
        "id": "Dnpq2Db6f1G3"
      },
      "source": [
        "### 🎉 Congrats! You finished your first exercise session! \n",
        "\n",
        "Awesome work! Cu next week! 👋"
      ]
    }
  ],
  "metadata": {
    "colab": {
      "provenance": []
    },
    "gpuClass": "standard",
    "kernelspec": {
      "display_name": "Python 3.10.9 ('py3-10')",
      "language": "python",
      "name": "python3"
    },
    "language_info": {
      "codemirror_mode": {
        "name": "ipython",
        "version": 3
      },
      "file_extension": ".py",
      "mimetype": "text/x-python",
      "name": "python",
      "nbconvert_exporter": "python",
      "pygments_lexer": "ipython3",
      "version": "3.10.9"
    },
    "vscode": {
      "interpreter": {
        "hash": "2796a542f02e21c7b64c456f08198defa707f6069db90b5c498cf1045ab7c83d"
      }
    }
  },
  "nbformat": 4,
  "nbformat_minor": 0
}
